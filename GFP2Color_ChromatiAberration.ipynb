{
 "cells": [
  {
   "cell_type": "code",
   "execution_count": 2,
   "id": "cdc925bd",
   "metadata": {},
   "outputs": [],
   "source": [
    "from ioMicro import *"
   ]
  },
  {
   "cell_type": "code",
   "execution_count": 2,
   "id": "1c0a7fe6",
   "metadata": {},
   "outputs": [],
   "source": [
    "data_folder= r'S:\\ZaneTrit_3_3_2023'"
   ]
  },
  {
   "cell_type": "code",
   "execution_count": 3,
   "id": "52e9a452",
   "metadata": {},
   "outputs": [],
   "source": [
    "# map all the hybes\n",
    "hybes =  glob.glob(data_folder+os.sep+'H*')\n",
    "# map all the fovs\n",
    "fovs = [os.path.basename(fl)for fl in glob.glob(hybes[0]+os.sep+'*.zarr')]\n",
    "def get_Hi(fld): \n",
    "    try: return int(os.path.basename(fld)[1:]) \n",
    "    except: return -1\n",
    "    \n",
    "hybes = np.array(hybes)[np.argsort([get_Hi(hybe) for hybe in hybes ])]"
   ]
  },
  {
   "cell_type": "code",
   "execution_count": 10,
   "id": "2b778a61",
   "metadata": {},
   "outputs": [],
   "source": [
    "def get_two_GFP_sets(fl,hmin_fit=750,hcutoff=3000,cor_good=0.5,cor_bad=0.25,\n",
    "                     dist_cutoff_good=4,dist_cutoff_bad=20,plt_val=False):\n",
    "    im = read_im(fl)\n",
    "    imGFP1 = np.array(im[0],dtype=np.float32) #GFP 750 half\n",
    "    imGFP2 = np.array(im[1],dtype=np.float32) #GFP cy5 half\n",
    "    #Subtract local background\n",
    "    imGFP1_ = norm_slice(imGFP1, s=30)\n",
    "    imGFP2_ = norm_slice(imGFP2, s=30)\n",
    "    #fit both GFPs\n",
    "    Xh1 = get_local_max(imGFP1_,hmin_fit,im_raw=imGFP1,delta=1,delta_fit=3)\n",
    "    Xh2 = get_local_max(imGFP2_,hmin_fit,im_raw=imGFP2,delta=1,delta_fit=3)\n",
    "    #zc-center positions in pixels for z,xc,yc,bk- minimum signal within radius,a-total sum of signal within sphere of radius 3 pixels ,habs - max brightness of local max in oridgianl image,hn - correlation with expected PSF,h- maxium brightness in the subtracted\n",
    "\n",
    "\n",
    "    hcutoff = hcutoff\n",
    "    #threshold points based on brightness (h) and correlation with PSF\n",
    "    h = Xh1[:,-1]\n",
    "    cor = Xh1[:,-2]\n",
    "    keep = (h>hcutoff)&(cor>cor_good)\n",
    "    h = Xh1[keep,-1]\n",
    "    X = Xh1[keep,:3]\n",
    "    X1 = X\n",
    "    \n",
    "    h = Xh2[:,-1]\n",
    "    cor = Xh2[:,-2]\n",
    "    keep = (h>hcutoff)&(cor>cor_good)\n",
    "    h = Xh2[keep,-1]\n",
    "    X = Xh2[keep,:3]\n",
    "    X2 = X\n",
    "    \n",
    "    \n",
    "    # find the bad points (junk) and exlcude points next to them\n",
    "    h = Xh1[:,-1]\n",
    "    cor = Xh1[:,-2]\n",
    "    keep = (h>hcutoff)&(cor<cor_bad)\n",
    "    Xbad = Xh1[keep,:3]\n",
    "    h = Xh2[:,-1]\n",
    "    cor = Xh2[:,-2]\n",
    "    keep = (h>hcutoff)&(cor<cor_bad)\n",
    "    Xbad = np.concatenate([Xbad,Xh2[keep,:3]],axis=0)\n",
    "    \n",
    "    from scipy.spatial import KDTree\n",
    "    tree1 = KDTree(X1)\n",
    "    dist,ind1 = tree1.query(X2)\n",
    "    ind2 = np.arange(len(X2))\n",
    "    keep = dist<dist_cutoff_good\n",
    "    ind1,ind2=ind1[keep],ind2[keep]\n",
    "    X1_,X2_ = X1[ind1],X2[ind2]\n",
    "    #exclude bad points\n",
    "    tree_bad = KDTree(Xbad)\n",
    "    d1,ind1=tree_bad.query(X1_)\n",
    "    d2,ind2=tree_bad.query(X2_)\n",
    "    X1f = X1_[d1>dist_cutoff_bad]\n",
    "    X2f = X2_[d1>dist_cutoff_bad]\n",
    "    if plt_val:\n",
    "        import napari\n",
    "        v = napari.Viewer()\n",
    "        v.add_image(imGFP1_,colormap='green',blending='additive',contrast_limits=[0,10000])\n",
    "        v.add_image(imGFP2_,colormap='red',blending='additive',contrast_limits=[0,10000])\n",
    "        v.add_points(X1f,face_color='g',blending='additive')\n",
    "        v.add_points(X2f,face_color='r',blending='additive')\n",
    "    return X1f,X2f"
   ]
  },
  {
   "cell_type": "code",
   "execution_count": 20,
   "id": "3b46146a",
   "metadata": {},
   "outputs": [
    {
     "name": "stderr",
     "output_type": "stream",
     "text": [
      "100%|██████████████████████████████████████████████████████████████████████████████████| 50/50 [55:53<00:00, 67.07s/it]\n"
     ]
    }
   ],
   "source": [
    "fov = fovs[30]\n",
    "analysis_folder = r'S:\\ZaneTrit_3_3_2023_analysis'\n",
    "if not os.path.exists(analysis_folder): os.makedirs(analysis_folder)\n",
    "for fov in tqdm(fovs):\n",
    "    fl = hybes[0]+os.sep+fov\n",
    "    save_fl = analysis_folder+os.sep+fov.split('.')[0]+'_GFP2X.pkl'\n",
    "    if not os.path.exists(save_fl):\n",
    "        X1f,X2f = get_two_GFP_sets(fl,hmin_fit=750,hcutoff=2500,cor_good=0.5,cor_bad=0.25,\n",
    "                             dist_cutoff_good=4,dist_cutoff_bad=20,plt_val=False)\n",
    "        np.save(save_fl,[X1f,X2f])"
   ]
  },
  {
   "cell_type": "code",
   "execution_count": 18,
   "id": "69f8d61b",
   "metadata": {},
   "outputs": [],
   "source": [
    "save_fl = analysis_folder+os.sep+fov.split('.')[0]+'_GFP2X.npy'\n"
   ]
  },
  {
   "cell_type": "code",
   "execution_count": 21,
   "id": "9d7cfa5d",
   "metadata": {},
   "outputs": [
    {
     "name": "stdout",
     "output_type": "stream",
     "text": [
      "['Conv_zscan__00.zarr', 'Conv_zscan__01.zarr', 'Conv_zscan__02.zarr', 'Conv_zscan__03.zarr', 'Conv_zscan__04.zarr', 'Conv_zscan__05.zarr', 'Conv_zscan__06.zarr', 'Conv_zscan__07.zarr', 'Conv_zscan__08.zarr', 'Conv_zscan__09.zarr', 'Conv_zscan__10.zarr', 'Conv_zscan__11.zarr', 'Conv_zscan__12.zarr', 'Conv_zscan__13.zarr', 'Conv_zscan__14.zarr', 'Conv_zscan__15.zarr', 'Conv_zscan__16.zarr', 'Conv_zscan__17.zarr', 'Conv_zscan__18.zarr', 'Conv_zscan__19.zarr', 'Conv_zscan__20.zarr', 'Conv_zscan__21.zarr', 'Conv_zscan__22.zarr', 'Conv_zscan__23.zarr', 'Conv_zscan__24.zarr', 'Conv_zscan__25.zarr', 'Conv_zscan__26.zarr', 'Conv_zscan__27.zarr', 'Conv_zscan__28.zarr', 'Conv_zscan__29.zarr', 'Conv_zscan__30.zarr', 'Conv_zscan__31.zarr', 'Conv_zscan__32.zarr', 'Conv_zscan__33.zarr', 'Conv_zscan__34.zarr', 'Conv_zscan__35.zarr', 'Conv_zscan__36.zarr', 'Conv_zscan__37.zarr', 'Conv_zscan__38.zarr', 'Conv_zscan__39.zarr', 'Conv_zscan__40.zarr', 'Conv_zscan__41.zarr', 'Conv_zscan__42.zarr', 'Conv_zscan__43.zarr', 'Conv_zscan__44.zarr', 'Conv_zscan__45.zarr', 'Conv_zscan__46.zarr', 'Conv_zscan__47.zarr', 'Conv_zscan__48.zarr', 'Conv_zscan__49.zarr']\n"
     ]
    }
   ],
   "source": [
    "print(fovs)"
   ]
  },
  {
   "cell_type": "code",
   "execution_count": 4,
   "id": "34cb2d0c",
   "metadata": {},
   "outputs": [],
   "source": [
    "fovs = ['Conv_zscan__00.zarr', 'Conv_zscan__01.zarr', 'Conv_zscan__02.zarr', 'Conv_zscan__03.zarr', 'Conv_zscan__04.zarr', 'Conv_zscan__05.zarr', 'Conv_zscan__06.zarr', 'Conv_zscan__07.zarr', 'Conv_zscan__08.zarr', 'Conv_zscan__09.zarr', 'Conv_zscan__10.zarr', 'Conv_zscan__11.zarr', 'Conv_zscan__12.zarr', 'Conv_zscan__13.zarr', 'Conv_zscan__14.zarr', 'Conv_zscan__15.zarr', 'Conv_zscan__16.zarr', 'Conv_zscan__17.zarr', 'Conv_zscan__18.zarr', 'Conv_zscan__19.zarr', 'Conv_zscan__20.zarr', 'Conv_zscan__21.zarr', 'Conv_zscan__22.zarr', 'Conv_zscan__23.zarr', 'Conv_zscan__24.zarr', 'Conv_zscan__25.zarr', 'Conv_zscan__26.zarr', 'Conv_zscan__27.zarr', 'Conv_zscan__28.zarr', 'Conv_zscan__29.zarr', 'Conv_zscan__30.zarr', 'Conv_zscan__31.zarr', 'Conv_zscan__32.zarr', 'Conv_zscan__33.zarr', 'Conv_zscan__34.zarr', 'Conv_zscan__35.zarr', 'Conv_zscan__36.zarr', 'Conv_zscan__37.zarr', 'Conv_zscan__38.zarr', 'Conv_zscan__39.zarr', 'Conv_zscan__40.zarr', 'Conv_zscan__41.zarr', 'Conv_zscan__42.zarr', 'Conv_zscan__43.zarr', 'Conv_zscan__44.zarr', 'Conv_zscan__45.zarr', 'Conv_zscan__46.zarr', 'Conv_zscan__47.zarr', 'Conv_zscan__48.zarr', 'Conv_zscan__49.zarr']"
   ]
  },
  {
   "cell_type": "code",
   "execution_count": 5,
   "id": "2e9d3ec3",
   "metadata": {},
   "outputs": [
    {
     "name": "stderr",
     "output_type": "stream",
     "text": [
      "100%|██████████████████████████████████████████████████████████████████████████████████| 50/50 [00:02<00:00, 18.17it/s]\n"
     ]
    }
   ],
   "source": [
    "analysis_folder = r'S:\\ZaneTrit_3_3_2023_analysis'\n",
    "X1fs,X2fs = [],[]\n",
    "for fov in tqdm(fovs):\n",
    "    save_fl = analysis_folder+os.sep+fov.split('.')[0]+'_GFP2X.pkl.npy'\n",
    "    X1f,X2f = np.load(save_fl)\n",
    "    X1fs.extend(X1f)\n",
    "    X2fs.extend(X2f)"
   ]
  },
  {
   "cell_type": "code",
   "execution_count": 6,
   "id": "d2cf7c14",
   "metadata": {},
   "outputs": [],
   "source": [
    "X1fs = np.array(X1fs)\n",
    "X2fs = np.array(X2fs)"
   ]
  },
  {
   "cell_type": "code",
   "execution_count": 11,
   "id": "d6e77b96",
   "metadata": {},
   "outputs": [],
   "source": [
    "m = np.load(r'S:\\ZaneTrit_3_3_2023_analysis\\chromatic_abberation_matrix_Scope2DC60xobj.npy')\n",
    "X1fsT = apply_colorcor(X1fs,m=m)"
   ]
  },
  {
   "cell_type": "code",
   "execution_count": 13,
   "id": "05c91379",
   "metadata": {},
   "outputs": [
    {
     "name": "stderr",
     "output_type": "stream",
     "text": [
      "C:\\Users\\Scope2\\anaconda3\\lib\\site-packages\\napari_tools_menu\\__init__.py:179: FutureWarning: Public access to Window.qt_viewer is deprecated and will be removed in\n",
      "v0.5.0. It is considered an \"implementation detail\" of the napari\n",
      "application, not part of the napari viewer model. If your use case\n",
      "requires access to qt_viewer, please open an issue to discuss.\n",
      "  self.tools_menu = ToolsMenu(self, self.qt_viewer.viewer)\n"
     ]
    },
    {
     "data": {
      "text/plain": [
       "<Points layer 'X1fsT' at 0x20303426ee0>"
      ]
     },
     "execution_count": 13,
     "metadata": {},
     "output_type": "execute_result"
    }
   ],
   "source": [
    "import napari\n",
    "v=  napari.view_points(X1fs,face_color='r',blending='additive',size=1)\n",
    "v.add_points(X2fs,face_color='g',blending='additive',size=1)\n",
    "v.add_points(X1fsT,face_color='b',blending='additive',size=1)"
   ]
  },
  {
   "cell_type": "code",
   "execution_count": null,
   "id": "fa9ccc39",
   "metadata": {},
   "outputs": [],
   "source": []
  },
  {
   "cell_type": "code",
   "execution_count": 104,
   "id": "5f6c777f",
   "metadata": {},
   "outputs": [
    {
     "data": {
      "text/plain": [
       "<matplotlib.colorbar.Colorbar at 0x1edc5375d30>"
      ]
     },
     "execution_count": 104,
     "metadata": {},
     "output_type": "execute_result"
    },
    {
     "data": {
      "image/png": "[encoded data removed]",
      "text/plain": [
       "<Figure size 432x288 with 2 Axes>"
      ]
     },
     "metadata": {
      "needs_background": "light"
     },
     "output_type": "display_data"
    }
   ],
   "source": [
    "sx,sy = 2000,2000\n",
    "resc = 30\n",
    "Xim = np.indices([sx//resc,sy//resc]).reshape([2,-1]).T*resc\n",
    "\n",
    "from scipy.spatial import KDTree\n",
    "tree = KDTree(X1fs[:,1:])\n",
    "dneigh,ineigh = tree.query(Xim,k=50)\n",
    "dif = X2fs-X1fs\n",
    "dM = dif[ineigh]\n",
    "ddist = 200\n",
    "dM[dneigh>ddist]=np.nan\n",
    "ddif = np.nanmedian(dM,axis=1)\n",
    "imT =ddif.reshape([sx//resc,sy//resc,3])[:,:,1]\n",
    "plt.imshow(imT)\n",
    "plt.colorbar()"
   ]
  },
  {
   "cell_type": "code",
   "execution_count": 8,
   "id": "07b76ff1",
   "metadata": {},
   "outputs": [],
   "source": [
    "def calc_color_matrix(x,yd,order=2):\n",
    "    \"\"\"This gives a quadratic color transformation (in matrix form)\n",
    "    x is Nx3 vector of positions in the reference channel (typically cy5)\n",
    "    yd is the Nx3 vector of positions in another channel - the reference (i.e. cy7-cy5)\n",
    "    return m_ a 3x7 matrix which when multipled with x,x**2,1 returns y-x\n",
    "    This m_ is indended to be used with apply_colorcor\n",
    "    \"\"\" \n",
    "    x_ = np.array(x)# ref zxy\n",
    "    y_ = np.array(yd)# dif zxy\n",
    "    good = ~np.any(np.isnan(y_),axis=-1)\n",
    "    x_ = x_[good]\n",
    "    y_ = y_[good]\n",
    "    \n",
    "    # get a list of exponents\n",
    "    exps = []\n",
    "    for p in range(order+1):\n",
    "        for i in range(p+1):\n",
    "            for j in range(p+1):\n",
    "                if i+j<=p:\n",
    "                    exps.append([i,j,p-i-j])\n",
    "    # construct A matrix\n",
    "    A = np.zeros([len(x_),len(exps)])\n",
    "    for iA,(ix,iy,iz) in enumerate(exps):\n",
    "        s = (x_[:,0]**ix*x_[:,1]**iy*x_[:,2]**iz)\n",
    "        A[:,iA]=s\n",
    "    m_ = [np.linalg.lstsq(A, y_[:,iy])[0] for iy in range(len(x_[0]))]\n",
    "    m_=np.array(m_)\n",
    "    return m_\n",
    "def apply_colorcor(x,m=None):\n",
    "    \"\"\"This applies chromatic abberation correction to order 2\n",
    "    x is a Nx3 vector of positions (typically 750(-->647))\n",
    "    m is a matrix computed by function calc_color_matrix\n",
    "    y is the corrected vector in another channel\"\"\"\n",
    "    if m is None:\n",
    "        return x\n",
    "    exps = []\n",
    "    order_max=10\n",
    "    for p in range(order_max+1):\n",
    "        for i in range(p+1):\n",
    "            for j in range(p+1):\n",
    "                if i+j<=p:\n",
    "                    exps.append([i,j,p-i-j])\n",
    "    #find the order\n",
    "    mx,my = m.shape\n",
    "    order = int((my-1)/mx)\n",
    "    assert(my<len(exps))\n",
    "    x_ = np.array(x)\n",
    "    # construct A matrix\n",
    "    exps = exps[:my]\n",
    "    A = np.zeros([len(x_),len(exps)])\n",
    "    for iA,(ix,iy,iz) in enumerate(exps):\n",
    "        s = (x_[:,0]**ix*x_[:,1]**iy*x_[:,2]**iz)\n",
    "        A[:,iA]=s\n",
    "    diff = [np.dot(A,m_) for m_ in m]\n",
    "    return x_+np.array(diff).T"
   ]
  },
  {
   "cell_type": "code",
   "execution_count": 102,
   "id": "df96dc8e",
   "metadata": {},
   "outputs": [
    {
     "name": "stderr",
     "output_type": "stream",
     "text": [
      "C:\\Users\\Scope2\\AppData\\Local\\Temp\\ipykernel_24836\\4078241219.py:26: FutureWarning: `rcond` parameter will change to the default of machine precision times ``max(M, N)`` where M and N are the input matrix dimensions.\n",
      "To use the future default and silence this warning we advise to pass `rcond=None`, to keep using the old, explicitly pass `rcond=-1`.\n",
      "  m_ = [np.linalg.lstsq(A, y_[:,iy])[0] for iy in range(len(x_[0]))]\n"
     ]
    }
   ],
   "source": [
    "Xim_ = Xim[:,[0,0,1]]\n",
    "Xim_[:,0]=0\n",
    "m = calc_color_matrix(Xim_,ddif,order=1)"
   ]
  },
  {
   "cell_type": "code",
   "execution_count": 103,
   "id": "7a6b4c12",
   "metadata": {},
   "outputs": [],
   "source": [
    "np.save(r'S:\\ZaneTrit_3_3_2023_analysis\\chromatic_abberation_matrix_Scope2DC60xobj.npy',m)"
   ]
  },
  {
   "cell_type": "code",
   "execution_count": null,
   "id": "b89cde7c",
   "metadata": {},
   "outputs": [],
   "source": []
  },
  {
   "cell_type": "code",
   "execution_count": 98,
   "id": "72105f68",
   "metadata": {},
   "outputs": [
    {
     "name": "stderr",
     "output_type": "stream",
     "text": [
      "C:\\Users\\Scope2\\AppData\\Local\\Temp\\ipykernel_24836\\4078241219.py:26: FutureWarning: `rcond` parameter will change to the default of machine precision times ``max(M, N)`` where M and N are the input matrix dimensions.\n",
      "To use the future default and silence this warning we advise to pass `rcond=None`, to keep using the old, explicitly pass `rcond=-1`.\n",
      "  m_ = [np.linalg.lstsq(A, y_[:,iy])[0] for iy in range(len(x_[0]))]\n"
     ]
    },
    {
     "data": {
      "text/plain": [
       "<matplotlib.colorbar.Colorbar at 0x1edc9af3220>"
      ]
     },
     "execution_count": 98,
     "metadata": {},
     "output_type": "execute_result"
    },
    {
     "data": {
      "image/png": "[encoded data removed]",
      "text/plain": [
       "<Figure size 432x288 with 2 Axes>"
      ]
     },
     "metadata": {
      "needs_background": "light"
     },
     "output_type": "display_data"
    }
   ],
   "source": [
    "\n",
    "XimT_ = apply_colorcor(Xim_,m=m)\n",
    "\n",
    "imTR = (XimT_-Xim_)[:,0].reshape(imT.shape)\n",
    "\n",
    "plt.imshow(imTR)\n",
    "plt.colorbar()"
   ]
  },
  {
   "cell_type": "code",
   "execution_count": 100,
   "id": "cba2ed72",
   "metadata": {},
   "outputs": [
    {
     "data": {
      "text/plain": [
       "<matplotlib.colorbar.Colorbar at 0x1edc9b3d2b0>"
      ]
     },
     "execution_count": 100,
     "metadata": {},
     "output_type": "execute_result"
    },
    {
     "data": {
      "image/png": "[encoded data removed]",
      "text/plain": [
       "<Figure size 432x288 with 2 Axes>"
      ]
     },
     "metadata": {
      "needs_background": "light"
     },
     "output_type": "display_data"
    }
   ],
   "source": [
    "imT =ddif.reshape([sx//resc,sy//resc,3])[:,:,0]\n",
    "plt.imshow(imT)\n",
    "plt.colorbar()"
   ]
  },
  {
   "cell_type": "code",
   "execution_count": 64,
   "id": "0e8ec5ca",
   "metadata": {},
   "outputs": [
    {
     "name": "stderr",
     "output_type": "stream",
     "text": [
      "C:\\Users\\Scope2\\anaconda3\\lib\\site-packages\\napari_tools_menu\\__init__.py:179: FutureWarning: Public access to Window.qt_viewer is deprecated and will be removed in\n",
      "v0.5.0. It is considered an \"implementation detail\" of the napari\n",
      "application, not part of the napari viewer model. If your use case\n",
      "requires access to qt_viewer, please open an issue to discuss.\n",
      "  self.tools_menu = ToolsMenu(self, self.qt_viewer.viewer)\n"
     ]
    },
    {
     "data": {
      "text/plain": [
       "<Points layer 'Xim' at 0x1edc3003df0>"
      ]
     },
     "execution_count": 64,
     "metadata": {},
     "output_type": "execute_result"
    }
   ],
   "source": [
    "import napari\n",
    "v = napari.view_points(X1fs[:,1:],face_color='g',blending='additive')\n",
    "v.add_points(X2fs[:,1:],face_color='r',blending='additive')\n",
    "v.add_points(Xim)"
   ]
  },
  {
   "cell_type": "code",
   "execution_count": null,
   "id": "2185cc19",
   "metadata": {},
   "outputs": [],
   "source": []
  }
 ],
 "metadata": {
  "kernelspec": {
   "display_name": "Python 3 (ipykernel)",
   "language": "python",
   "name": "python3"
  },
  "language_info": {
   "codemirror_mode": {
    "name": "ipython",
    "version": 3
   },
   "file_extension": ".py",
   "mimetype": "text/x-python",
   "name": "python",
   "nbconvert_exporter": "python",
   "pygments_lexer": "ipython3",
   "version": "3.9.12"
  }
 },
 "nbformat": 4,
 "nbformat_minor": 5
}

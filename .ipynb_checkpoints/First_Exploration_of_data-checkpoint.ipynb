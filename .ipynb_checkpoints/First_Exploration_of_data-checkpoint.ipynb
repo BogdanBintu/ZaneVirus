{
 "cells": [
  {
   "cell_type": "code",
   "execution_count": 2,
   "id": "f25d140b",
   "metadata": {},
   "outputs": [],
   "source": [
    "from ioMicro import *"
   ]
  },
  {
   "cell_type": "code",
   "execution_count": 3,
   "id": "2d2b30ca",
   "metadata": {},
   "outputs": [],
   "source": [
    "data_folder= r'S:\\ZaneTrit_3_3_2023'"
   ]
  },
  {
   "cell_type": "code",
   "execution_count": 4,
   "id": "b7068323",
   "metadata": {},
   "outputs": [],
   "source": [
    "# map all the hybes\n",
    "hybes =  glob.glob(data_folder+os.sep+'H*')\n",
    "# map all the fovs\n",
    "fovs = [os.path.basename(fl)for fl in glob.glob(hybes[0]+os.sep+'*.zarr')]\n",
    "def get_Hi(fld): \n",
    "    try: return int(os.path.basename(fld)[1:]) \n",
    "    except: return -1\n",
    "    \n",
    "hybes = np.array(hybes)[np.argsort([get_Hi(hybe) for hybe in hybes ])]"
   ]
  },
  {
   "cell_type": "code",
   "execution_count": 5,
   "id": "683a4304",
   "metadata": {},
   "outputs": [
    {
     "name": "stderr",
     "output_type": "stream",
     "text": [
      "C:\\Users\\Scope2\\anaconda3\\lib\\site-packages\\napari_tools_menu\\__init__.py:179: FutureWarning: Public access to Window.qt_viewer is deprecated and will be removed in\n",
      "v0.5.0. It is considered an \"implementation detail\" of the napari\n",
      "application, not part of the napari viewer model. If your use case\n",
      "requires access to qt_viewer, please open an issue to discuss.\n",
      "  self.tools_menu = ToolsMenu(self, self.qt_viewer.viewer)\n"
     ]
    },
    {
     "data": {
      "text/plain": [
       "Viewer(axes=Axes(visible=False, labels=True, colored=True, dashed=False, arrows=True), camera=Camera(center=(0.0, 999.5, 999.5), zoom=0.2432, angles=(0.0, 0.0, 90.0), perspective=0.0, interactive=True), cursor=Cursor(position=(1.0, 1.0, 0.0, 0.0), scaled=True, size=1, style=<CursorStyle.STANDARD: 'standard'>), dims=Dims(ndim=4, ndisplay=2, last_used=0, range=((0.0, 4.0, 1.0), (0.0, 75.0, 1.0), (0.0, 2000.0, 1.0), (0.0, 2000.0, 1.0)), current_step=(2, 37, 1000, 1000), order=(0, 1, 2, 3), axis_labels=('0', '1', '2', '3')), grid=GridCanvas(stride=1, shape=(-1, -1), enabled=False), layers=[<Image layer 'im' at 0x2390d8a7df0>], scale_bar=ScaleBar(visible=False, colored=False, ticks=True, position=<Position.BOTTOM_RIGHT: 'bottom_right'>, font_size=10, unit=None), text_overlay=TextOverlay(visible=False, color=(0.5, 0.5, 0.5, 1.0), font_size=10, position=<TextOverlayPosition.TOP_LEFT: 'top_left'>, text=''), overlays=Overlays(interaction_box=InteractionBox(points=None, show=False, show_handle=False, show_vertices=False, selection_box_drag=None, selection_box_final=None, transform_start=<napari.utils.transforms.transforms.Affine object at 0x0000023903574970>, transform_drag=<napari.utils.transforms.transforms.Affine object at 0x00000239035749D0>, transform_final=<napari.utils.transforms.transforms.Affine object at 0x0000023903574A30>, transform=<napari.utils.transforms.transforms.Affine object at 0x0000023903574A90>, allow_new_selection=True, selected_vertex=None)), help='', status='Ready', tooltip=Tooltip(visible=False, text=''), theme='dark', title='napari', mouse_move_callbacks=[<function InteractionBoxMouseBindings.initialize_mouse_events.<locals>.mouse_move at 0x000002390BD0D9D0>], mouse_drag_callbacks=[<function InteractionBoxMouseBindings.initialize_mouse_events.<locals>.mouse_drag at 0x000002390BD0D790>], mouse_double_click_callbacks=[], mouse_wheel_callbacks=[<function dims_scroll at 0x00000239034C0E50>], _persisted_mouse_event={}, _mouse_drag_gen={}, _mouse_wheel_gen={}, keymap={'Shift': <function InteractionBoxMouseBindings.initialize_key_events.<locals>.hold_to_lock_aspect_ratio at 0x000002390BD0D670>, 'Control-Shift-R': <function InteractionBoxMouseBindings._reset_active_layer_affine at 0x000002390B6605E0>, 'Control-Shift-A': <function InteractionBoxMouseBindings._transform_active_layer at 0x000002390B6609D0>})"
      ]
     },
     "execution_count": 5,
     "metadata": {},
     "output_type": "execute_result"
    }
   ],
   "source": [
    "## Quickly check an image\n",
    "fov = fovs[20]\n",
    "fl = hybes[0]+os.sep+fov\n",
    "im = read_im(fl)\n",
    "import napari\n",
    "napari.view_image(im,contrast_limits=[0,50000])"
   ]
  },
  {
   "cell_type": "code",
   "execution_count": 6,
   "id": "f78bb04a",
   "metadata": {},
   "outputs": [],
   "source": [
    "imGFP1 = np.array(im[0],dtype=np.float32) #GFP 750 half\n",
    "imGFP2 = np.array(im[1],dtype=np.float32) #GFP cy5 half"
   ]
  },
  {
   "cell_type": "code",
   "execution_count": 7,
   "id": "4d8da24f",
   "metadata": {},
   "outputs": [],
   "source": [
    "#Subtract local background\n",
    "imGFP1_ = norm_slice(imGFP1, s=30)\n",
    "imGFP2_ = norm_slice(imGFP2, s=30)"
   ]
  },
  {
   "cell_type": "code",
   "execution_count": 8,
   "id": "afc1e1a7",
   "metadata": {},
   "outputs": [],
   "source": [
    "#fit both GFPs\n",
    "Xh1 = get_local_max(imGFP1_,750,im_raw=imGFP1,delta=1,delta_fit=3)\n",
    "Xh2 = get_local_max(imGFP2_,750,im_raw=imGFP2,delta=1,delta_fit=3)\n",
    "#zc-center positions in pixels for z,xc,yc,bk- minimum signal within radius,a-total sum of signal within sphere of radius 3 pixels ,habs - max brightness of local max in oridgianl image,hn - correlation with expected PSF,h- maxium brightness in the subtracted"
   ]
  },
  {
   "cell_type": "code",
   "execution_count": 11,
   "id": "0151cf83",
   "metadata": {},
   "outputs": [
    {
     "data": {
      "text/plain": [
       "array([0.23597258, 0.20424256, 0.18279964, ..., 0.39054113, 0.34681699,\n",
       "       0.3341899 ])"
      ]
     },
     "execution_count": 11,
     "metadata": {},
     "output_type": "execute_result"
    }
   ],
   "source": [
    "h = Xh1[:,-1]\n",
    "cor = Xh1[:,-2]\n",
    "cor"
   ]
  },
  {
   "cell_type": "code",
   "execution_count": 15,
   "id": "c871cadd",
   "metadata": {},
   "outputs": [
    {
     "name": "stderr",
     "output_type": "stream",
     "text": [
      "C:\\Users\\Scope2\\anaconda3\\lib\\site-packages\\napari_tools_menu\\__init__.py:179: FutureWarning: Public access to Window.qt_viewer is deprecated and will be removed in\n",
      "v0.5.0. It is considered an \"implementation detail\" of the napari\n",
      "application, not part of the napari viewer model. If your use case\n",
      "requires access to qt_viewer, please open an issue to discuss.\n",
      "  self.tools_menu = ToolsMenu(self, self.qt_viewer.viewer)\n"
     ]
    },
    {
     "data": {
      "text/plain": [
       "<Points layer 'Xbad' at 0x23920a48fd0>"
      ]
     },
     "execution_count": 15,
     "metadata": {},
     "output_type": "execute_result"
    }
   ],
   "source": [
    "viewer = napari.Viewer()\n",
    "\n",
    "viewer.add_image(imGFP1_,contrast_limits=[0,5000],blending='additive',colormap='green')\n",
    "viewer.add_image(imGFP2_,contrast_limits=[0,5000],blending='additive',colormap='magenta')\n",
    "hcutoff = 3000\n",
    "h = Xh1[:,-1]\n",
    "cor = Xh1[:,-2]\n",
    "keep = (h>hcutoff)&(cor>0.5)\n",
    "h = Xh1[keep,-1]\n",
    "X = Xh1[keep,:3]\n",
    "size = 5#np.clip(h/np.percentile(h,99),0,1)*10\n",
    "X1 = X\n",
    "viewer.add_points(X,size=size,face_color=[0,0,0,0],edge_color='g')\n",
    "h = Xh2[:,-1]\n",
    "cor = Xh2[:,-2]\n",
    "keep = (h>hcutoff)&(cor>0.5)\n",
    "h = Xh2[keep,-1]\n",
    "X = Xh2[keep,:3]\n",
    "\n",
    "X2 = X\n",
    "size = 5#np.clip(h/np.percentile(h,99),0,1)*10\n",
    "\n",
    "viewer.add_points(X,size=size,face_color=[0,0,0,0],edge_color='m')\n",
    "\n",
    "\n",
    "h = Xh1[:,-1]\n",
    "cor = Xh1[:,-2]\n",
    "keep = (h>hcutoff)&(cor<0.25)\n",
    "Xbad = Xh1[keep,:3]\n",
    "\n",
    "h = Xh2[:,-1]\n",
    "cor = Xh2[:,-2]\n",
    "keep = (h>hcutoff)&(cor<0.25)\n",
    "Xbad = np.concatenate([Xbad,Xh2[keep,:3]],axis=0)\n",
    "viewer.add_points(Xbad,size=size,face_color=[0,0,0,0],edge_color='r')"
   ]
  },
  {
   "cell_type": "code",
   "execution_count": null,
   "id": "7c2503c8",
   "metadata": {},
   "outputs": [],
   "source": [
    "X"
   ]
  },
  {
   "cell_type": "code",
   "execution_count": 69,
   "id": "ba519529",
   "metadata": {},
   "outputs": [
    {
     "data": {
      "text/plain": [
       "((2158, 3), (1441, 3))"
      ]
     },
     "execution_count": 69,
     "metadata": {},
     "output_type": "execute_result"
    }
   ],
   "source": [
    "X1.shape,X2.shape"
   ]
  },
  {
   "cell_type": "code",
   "execution_count": 16,
   "id": "f2ab4b5f",
   "metadata": {},
   "outputs": [],
   "source": [
    "from scipy.spatial import KDTree\n",
    "tree1 = KDTree(X1)\n",
    "dist,ind1 = tree1.query(X2)\n",
    "ind2 = np.arange(len(X2))\n",
    "keep = dist<4\n",
    "ind1,ind2=ind1[keep],ind2[keep]\n",
    "X1_,X2_ = X1[ind1],X2[ind2]"
   ]
  },
  {
   "cell_type": "code",
   "execution_count": 18,
   "id": "103ada81",
   "metadata": {},
   "outputs": [],
   "source": [
    "\n",
    "tree_bad = KDTree(Xbad)\n",
    "d1,ind1=tree_bad.query(X1_)\n",
    "d2,ind2=tree_bad.query(X2_)\n",
    "X1f = X1_[d1>20]\n",
    "X2f = X2_[d1>20]\n"
   ]
  },
  {
   "cell_type": "code",
   "execution_count": 21,
   "id": "9ea3d9d8",
   "metadata": {},
   "outputs": [
    {
     "name": "stderr",
     "output_type": "stream",
     "text": [
      "C:\\Users\\Scope2\\anaconda3\\lib\\site-packages\\napari_tools_menu\\__init__.py:179: FutureWarning: Public access to Window.qt_viewer is deprecated and will be removed in\n",
      "v0.5.0. It is considered an \"implementation detail\" of the napari\n",
      "application, not part of the napari viewer model. If your use case\n",
      "requires access to qt_viewer, please open an issue to discuss.\n",
      "  self.tools_menu = ToolsMenu(self, self.qt_viewer.viewer)\n"
     ]
    },
    {
     "data": {
      "text/plain": [
       "<Points layer 'X2f' at 0x23922966e50>"
      ]
     },
     "execution_count": 21,
     "metadata": {},
     "output_type": "execute_result"
    }
   ],
   "source": [
    "v = napari.view_points(X1f,face_color='g',blending='additive')\n",
    "v.add_points(X2f,face_color='r',blending='additive')"
   ]
  },
  {
   "cell_type": "code",
   "execution_count": null,
   "id": "3f9b5ed2",
   "metadata": {},
   "outputs": [],
   "source": []
  },
  {
   "cell_type": "code",
   "execution_count": null,
   "id": "02b57e10",
   "metadata": {},
   "outputs": [],
   "source": []
  },
  {
   "cell_type": "code",
   "execution_count": null,
   "id": "5a97b43e",
   "metadata": {},
   "outputs": [],
   "source": [
    "X>4000"
   ]
  },
  {
   "cell_type": "code",
   "execution_count": null,
   "id": "312cd481",
   "metadata": {},
   "outputs": [],
   "source": []
  },
  {
   "cell_type": "code",
   "execution_count": 44,
   "id": "fe0c5b50",
   "metadata": {},
   "outputs": [
    {
     "data": {
      "text/plain": [
       "0.0013134090048539237"
      ]
     },
     "execution_count": 44,
     "metadata": {},
     "output_type": "execute_result"
    }
   ],
   "source": [
    "np.min(size)"
   ]
  },
  {
   "cell_type": "code",
   "execution_count": 36,
   "id": "bc417995",
   "metadata": {},
   "outputs": [
    {
     "data": {
      "text/plain": [
       "(139292, 8)"
      ]
     },
     "execution_count": 36,
     "metadata": {},
     "output_type": "execute_result"
    }
   ],
   "source": [
    "Xh1.shape"
   ]
  },
  {
   "cell_type": "code",
   "execution_count": 31,
   "id": "4d02deba",
   "metadata": {},
   "outputs": [],
   "source": [
    "#imGFP2\n",
    "??norm_slice"
   ]
  },
  {
   "cell_type": "code",
   "execution_count": 7,
   "id": "dafbccdd",
   "metadata": {},
   "outputs": [
    {
     "data": {
      "text/plain": [
       "'Conv_zscan__20.zarr'"
      ]
     },
     "execution_count": 7,
     "metadata": {},
     "output_type": "execute_result"
    }
   ],
   "source": [
    "#\"Load\" a fov\n"
   ]
  },
  {
   "cell_type": "code",
   "execution_count": 24,
   "id": "8d1ff0e2",
   "metadata": {},
   "outputs": [],
   "source": [
    "??read_im"
   ]
  },
  {
   "cell_type": "code",
   "execution_count": null,
   "id": "6f5cd7dc",
   "metadata": {},
   "outputs": [],
   "source": []
  }
 ],
 "metadata": {
  "kernelspec": {
   "display_name": "Python 3 (ipykernel)",
   "language": "python",
   "name": "python3"
  },
  "language_info": {
   "codemirror_mode": {
    "name": "ipython",
    "version": 3
   },
   "file_extension": ".py",
   "mimetype": "text/x-python",
   "name": "python",
   "nbconvert_exporter": "python",
   "pygments_lexer": "ipython3",
   "version": "3.9.12"
  }
 },
 "nbformat": 4,
 "nbformat_minor": 5
}

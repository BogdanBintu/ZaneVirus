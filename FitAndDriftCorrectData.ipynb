{
 "cells": [
  {
   "cell_type": "code",
   "execution_count": null,
   "id": "b2ce0c28",
   "metadata": {},
   "outputs": [],
   "source": []
  },
  {
   "cell_type": "code",
   "execution_count": 1,
   "id": "91208537",
   "metadata": {},
   "outputs": [],
   "source": [
    "from ioMicro import *"
   ]
  },
  {
   "cell_type": "markdown",
   "id": "730d3230",
   "metadata": {},
   "source": [
    "### Map data"
   ]
  },
  {
   "cell_type": "code",
   "execution_count": 2,
   "id": "8f13886d",
   "metadata": {},
   "outputs": [],
   "source": [
    "data_folder= r'S:\\ZaneTrit_3_3_2023'\n",
    "\n",
    "# map all the hybes\n",
    "hybes =  glob.glob(data_folder+os.sep+'H*')\n",
    "# map all the fovs\n",
    "fovs = [os.path.basename(fl)for fl in glob.glob(hybes[0]+os.sep+'*.zarr')]\n",
    "def get_Hi(fld): \n",
    "    try: return int(os.path.basename(fld)[1:]) \n",
    "    except: return -1\n",
    "    \n",
    "hybes = np.array(hybes)[np.argsort([get_Hi(hybe) for hybe in hybes ])]"
   ]
  },
  {
   "cell_type": "code",
   "execution_count": 22,
   "id": "4d63d5b2",
   "metadata": {},
   "outputs": [],
   "source": [
    "def drift_correction(hybes,fov,save_file,iiref=None,redo=False,ssz=20):\n",
    "    if iiref is None: iiref = len(hybes)//2\n",
    "    dic_drift = {}\n",
    "    if os.path.exists(save_file):\n",
    "        dic_drift = pickle.load(open(save_file,'rb'))\n",
    "    tags = [os.path.basename(hybe) for hybe in hybes]\n",
    "    redo = ~np.all([tag in dic_drift for tag in tags])\n",
    "    if redo:\n",
    "        #Load the reference dapi image\n",
    "        fl1 = hybes[iiref]+os.sep+fov\n",
    "        im1 = read_im(fl1)\n",
    "        ncols,sz,sx,sy = im1.shape\n",
    "        im1dapi = np.array(im1[-1][(sz-ssz)//2:(sz+ssz)//2],dtype=np.float32)\n",
    "        ###Perform drift\n",
    "\n",
    "        for hybe in tqdm(hybes):\n",
    "            fl2 = hybe+os.sep+fov\n",
    "            tag = os.path.basename(hybe)\n",
    "            if not (tag in dic_drift):\n",
    "                im2 = read_im(fl2)\n",
    "                ncols,sz,sx,sy = im1.shape\n",
    "                \n",
    "\n",
    "                im2dapi = np.array(im2[-1][(sz-ssz)//2:(sz+ssz)//2],dtype=np.float32)\n",
    "                txyz,txyzs = get_txyz(im1dapi,im2dapi,sz_norm=30,sz = 500,nelems=5)\n",
    "                dic_drift[tag]=[txyz,txyzs]\n",
    "                #print(txyz,txyzs)\n",
    "                pickle.dump(dic_drift,open(save_file,'wb'))"
   ]
  },
  {
   "cell_type": "code",
   "execution_count": 30,
   "id": "3683f0f0",
   "metadata": {},
   "outputs": [],
   "source": [
    "def fit(hybe,fov,analysis_folder=r'S:\\ZaneTrit_3_3_2023_analysis',icol=0,redo=False,hth = 200):\n",
    "    fl = hybe+os.sep+fov\n",
    "    tag = os.path.basename(hybe)\n",
    "    save_file=analysis_folder+os.sep+fov.split('.')[0]+'--'+tag+'_fits_icol'+str(icol)+'.npz'\n",
    "    if not os.path.exists(save_file) or redo:\n",
    "        im = read_im(fl)\n",
    "        ncols,sz,sx,sy = im.shape\n",
    "        #for icol in np.arange(ncols-1):\n",
    "        imS = np.array(im[icol],dtype=np.float32) #GFP cy5 half\n",
    "        #Subtract local background\n",
    "        imS_ = norm_slice(imS, s=30)\n",
    "        #fit the spots\n",
    "        Xh = get_local_max(imS_,hth,im_raw=imS,delta=1,delta_fit=3)\n",
    "        np.savez_compressed(save_file,Xh=Xh)"
   ]
  },
  {
   "cell_type": "code",
   "execution_count": 31,
   "id": "763eb38a",
   "metadata": {},
   "outputs": [],
   "source": [
    "fit(hybes[7], fovs[30],analysis_folder=r'S:\\ZaneTrit_3_3_2023_analysis',icol=0,redo=False,hth = 200)"
   ]
  },
  {
   "cell_type": "code",
   "execution_count": 32,
   "id": "5ce3c367",
   "metadata": {},
   "outputs": [],
   "source": [
    "hybe, fov = hybes[7], fovs[30]\n",
    "tag = os.path.basename(hybe)\n",
    "icol = 0\n",
    "save_file=analysis_folder+os.sep+fov.split('.')[0]+'_fits_icol'+str(icol)+'.npz'\n",
    "Xh = np.load(save_file)['Xh']"
   ]
  },
  {
   "cell_type": "code",
   "execution_count": 36,
   "id": "d72f111d",
   "metadata": {},
   "outputs": [],
   "source": [
    "fl = hybe+os.sep+fov\n",
    "im = read_im(fl)"
   ]
  },
  {
   "cell_type": "code",
   "execution_count": 37,
   "id": "8e34513d",
   "metadata": {},
   "outputs": [
    {
     "name": "stderr",
     "output_type": "stream",
     "text": [
      "C:\\Users\\Scope2\\anaconda3\\lib\\site-packages\\napari_tools_menu\\__init__.py:179: FutureWarning: Public access to Window.qt_viewer is deprecated and will be removed in\n",
      "v0.5.0. It is considered an \"implementation detail\" of the napari\n",
      "application, not part of the napari viewer model. If your use case\n",
      "requires access to qt_viewer, please open an issue to discuss.\n",
      "  self.tools_menu = ToolsMenu(self, self.qt_viewer.viewer)\n"
     ]
    }
   ],
   "source": [
    "import napari\n",
    "v = napari.view_image(im[icol])"
   ]
  },
  {
   "cell_type": "code",
   "execution_count": 38,
   "id": "2758d526",
   "metadata": {},
   "outputs": [
    {
     "data": {
      "text/plain": [
       "<Points layer 'Points' at 0x2450d96c250>"
      ]
     },
     "execution_count": 38,
     "metadata": {},
     "output_type": "execute_result"
    }
   ],
   "source": [
    "#v.add_points(Xh[:,:3])\n",
    "h = Xh[:,-1]\n",
    "size = np.clip(h/np.percentile(h,99.9),0,1)*4\n",
    "v.add_points(Xh[:,:3],size=size,face_color=[0,0,0,0],edge_color='y')\n"
   ]
  },
  {
   "cell_type": "code",
   "execution_count": 23,
   "id": "eab8ea8b",
   "metadata": {},
   "outputs": [
    {
     "name": "stdout",
     "output_type": "stream",
     "text": [
      "S:\\ZaneTrit_3_3_2023_analysis\\Conv_zscan__30_drift.pkl\n"
     ]
    },
    {
     "name": "stderr",
     "output_type": "stream",
     "text": [
      "100%|██████████████████████████████████████████████████████████████████████████████████| 19/19 [03:51<00:00, 12.17s/it]\n"
     ]
    }
   ],
   "source": [
    "fov = fovs[30]\n",
    "analysis_folder = r'S:\\ZaneTrit_3_3_2023_analysis'\n",
    "save_file = analysis_folder+os.sep+fov.split('.')[0]+'_drift.pkl'\n",
    "print(save_file)\n",
    "drift_correction(hybes,fov,save_file,iiref=None,redo=False,ssz=20)"
   ]
  },
  {
   "cell_type": "code",
   "execution_count": 20,
   "id": "628aa4fa",
   "metadata": {},
   "outputs": [],
   "source": [
    "dic_drift = pickle.load(open(save_file,'rb'))"
   ]
  },
  {
   "cell_type": "code",
   "execution_count": 21,
   "id": "1f33b42e",
   "metadata": {},
   "outputs": [
    {
     "data": {
      "text/plain": [
       "{'H_GFP': [array([  0,   5, -93]),\n",
       "  [array([  0,   5, -93], dtype=int64),\n",
       "   array([  0,   5, -93], dtype=int64),\n",
       "   array([  0,   5, -93], dtype=int64),\n",
       "   array([  0,   4, -92], dtype=int64),\n",
       "   array([  0,   6, -93], dtype=int64)]],\n",
       " 'H1': [array([ 0, 99, 90]),\n",
       "  [array([ 0, 98, 90], dtype=int64),\n",
       "   array([ 0, 99, 91], dtype=int64),\n",
       "   array([ 0, 99, 90], dtype=int64),\n",
       "   array([ 0, 99, 90], dtype=int64),\n",
       "   array([ 0, 98, 90], dtype=int64)]],\n",
       " 'H2': [array([ 0, 22, 45]),\n",
       "  [array([ 0, 22, 45], dtype=int64),\n",
       "   array([ 0, 23, 45], dtype=int64),\n",
       "   array([ 0, 22, 45], dtype=int64),\n",
       "   array([ 0, 22, 45], dtype=int64),\n",
       "   array([ 0, 22, 45], dtype=int64)]],\n",
       " 'H3': [array([ 0, -7, 16]),\n",
       "  [array([ 0, -7, 16], dtype=int64),\n",
       "   array([ 0, -6, 16], dtype=int64),\n",
       "   array([ 0, -6, 16], dtype=int64),\n",
       "   array([ 0, -7, 16], dtype=int64),\n",
       "   array([ 0, -7, 16], dtype=int64)]]}"
      ]
     },
     "execution_count": 21,
     "metadata": {},
     "output_type": "execute_result"
    }
   ],
   "source": [
    "dic_drift"
   ]
  },
  {
   "cell_type": "code",
   "execution_count": null,
   "id": "237e6e02",
   "metadata": {},
   "outputs": [],
   "source": []
  }
 ],
 "metadata": {
  "kernelspec": {
   "display_name": "Python 3 (ipykernel)",
   "language": "python",
   "name": "python3"
  },
  "language_info": {
   "codemirror_mode": {
    "name": "ipython",
    "version": 3
   },
   "file_extension": ".py",
   "mimetype": "text/x-python",
   "name": "python",
   "nbconvert_exporter": "python",
   "pygments_lexer": "ipython3",
   "version": "3.9.12"
  }
 },
 "nbformat": 4,
 "nbformat_minor": 5
}

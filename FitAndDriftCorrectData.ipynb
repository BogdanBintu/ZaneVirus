{
 "cells": [
  {
   "cell_type": "code",
   "execution_count": null,
   "id": "b58fa163",
   "metadata": {},
   "outputs": [],
   "source": []
  },
  {
   "cell_type": "code",
   "execution_count": 1,
   "id": "cab71863",
   "metadata": {},
   "outputs": [],
   "source": [
    "from ioMicro import *"
   ]
  },
  {
   "cell_type": "code",
   "execution_count": 34,
   "id": "704fac28",
   "metadata": {},
   "outputs": [
    {
     "name": "stdout",
     "output_type": "stream",
     "text": [
      "C:\\Users\\Scope2\\Scope2Scripts\\Zane_Ying_Virus\\ioMicro.py\n"
     ]
    }
   ],
   "source": [
    "import ioMicro\n",
    "print(ioMicro.__file__)"
   ]
  },
  {
   "cell_type": "markdown",
   "id": "a671e8a1",
   "metadata": {},
   "source": [
    "### Map data"
   ]
  },
  {
   "cell_type": "code",
   "execution_count": 307,
   "id": "9c33eaaa",
   "metadata": {},
   "outputs": [],
   "source": [
    "data_folder= r'S:\\ZaneTrit_3_3_2023'\n",
    "\n",
    "# map all the hybes\n",
    "hybes =  glob.glob(data_folder+os.sep+'H*')\n",
    "# map all the fovs\n",
    "fovs = [os.path.basename(fl)for fl in glob.glob(hybes[0]+os.sep+'*.zarr')]\n",
    "def get_Hi(fld): \n",
    "    try: return int(os.path.basename(fld)[1:]) \n",
    "    except: return -1\n",
    "    \n",
    "hybes = np.array(hybes)[np.argsort([get_Hi(hybe) for hybe in hybes ])]"
   ]
  },
  {
   "cell_type": "code",
   "execution_count": 308,
   "id": "095366ee",
   "metadata": {},
   "outputs": [],
   "source": [
    "def drift_correction(hybes,fov,save_file,iiref=None,redo=False,ssz=20):\n",
    "    if iiref is None: iiref = len(hybes)//2\n",
    "    dic_drift = {}\n",
    "    if os.path.exists(save_file):\n",
    "        dic_drift = pickle.load(open(save_file,'rb'))\n",
    "    tags = [os.path.basename(hybe) for hybe in hybes]\n",
    "    redo = ~np.all([tag in dic_drift for tag in tags])\n",
    "    if redo:\n",
    "        #Load the reference dapi image\n",
    "        fl1 = hybes[iiref]+os.sep+fov\n",
    "        im1 = read_im(fl1)\n",
    "        ncols,sz,sx,sy = im1.shape\n",
    "        im1dapi = np.array(im1[-1][(sz-ssz)//2:(sz+ssz)//2],dtype=np.float32)\n",
    "        ###Perform drift\n",
    "\n",
    "        for hybe in tqdm(hybes):\n",
    "            fl2 = hybe+os.sep+fov\n",
    "            tag = os.path.basename(hybe)\n",
    "            if not (tag in dic_drift):\n",
    "                im2 = read_im(fl2)\n",
    "                ncols,sz,sx,sy = im1.shape\n",
    "                \n",
    "\n",
    "                im2dapi = np.array(im2[-1][(sz-ssz)//2:(sz+ssz)//2],dtype=np.float32)\n",
    "                txyz,txyzs = get_txyz(im1dapi,im2dapi,sz_norm=30,sz = 500,nelems=5)\n",
    "                dic_drift[tag]=[txyz,txyzs]\n",
    "                #print(txyz,txyzs)\n",
    "                pickle.dump(dic_drift,open(save_file,'wb'))"
   ]
  },
  {
   "cell_type": "code",
   "execution_count": 7,
   "id": "b871ce81",
   "metadata": {},
   "outputs": [],
   "source": [
    "from scipy.signal import fftconvolve\n",
    "def fit(hybe,fov,analysis_folder=r'S:\\ZaneTrit_3_3_2023_analysis',icol=0,redo=False,hth = 50,plt_val=True):\n",
    "    fl = hybe+os.sep+fov\n",
    "    tag = os.path.basename(hybe)\n",
    "    save_file=analysis_folder+os.sep+fov.split('.')[0]+'--'+tag+'_fits_icol'+str(icol)+'.npz'\n",
    "    if not os.path.exists(save_file) or redo:\n",
    "        im = read_im(fl)\n",
    "        ncols,sz,sx,sy = im.shape\n",
    "        #for icol in np.arange(ncols-1):\n",
    "        imS = np.array(im[icol],dtype=np.float32) #GFP cy5 half\n",
    "        #Convolve with gaussian \n",
    "        sz=5\n",
    "        X = np.indices([2*sz+1]*3)-sz\n",
    "        sigma=1.5\n",
    "        gaussian = np.exp(-np.sum(X**2,axis=0)/2/sigma**2)\n",
    "        im_conv = fftconvolve(imS,gaussian,mode='same')/np.sum(gaussian)\n",
    "        #Subtract local background\n",
    "        im_conv_ = norm_slice(im_conv,s=30)\n",
    "        #fit the spots\n",
    "        Xh = get_local_max(im_conv_,hth,im_raw=im_conv,delta=1,delta_fit=3)\n",
    "        if plt_val:\n",
    "            import napari\n",
    "            v = napari.view_image(im_conv_)\n",
    "            v.add_image(imS)\n",
    "            h = Xh[:,-1]\n",
    "            size = 5+np.clip(h/np.percentile(h,99.9),0,1)*10\n",
    "            v.add_points(Xh[:,:3],size=size,face_color=[0,0,0,0],edge_color='y')\n",
    "        np.savez_compressed(save_file,Xh=Xh)"
   ]
  },
  {
   "cell_type": "code",
   "execution_count": 87,
   "id": "ef5d76e8",
   "metadata": {},
   "outputs": [
    {
     "name": "stderr",
     "output_type": "stream",
     "text": [
      "100%|██████████████████████████████████████████████████████████████████████████████████| 19/19 [31:24<00:00, 99.17s/it]\n"
     ]
    }
   ],
   "source": [
    "for hybe in tqdm(hybes):\n",
    "    for icol in range(2):\n",
    "        fit(hybe, fovs[30],icol=icol,analysis_folder=r'S:\\ZaneTrit_3_3_2023_analysis',redo=False,hth = 50,plt_val=False)"
   ]
  },
  {
   "cell_type": "code",
   "execution_count": 9,
   "id": "865c469b",
   "metadata": {},
   "outputs": [
    {
     "name": "stderr",
     "output_type": "stream",
     "text": [
      "C:\\Users\\Scope2\\anaconda3\\lib\\site-packages\\napari_tools_menu\\__init__.py:179: FutureWarning: Public access to Window.qt_viewer is deprecated and will be removed in\n",
      "v0.5.0. It is considered an \"implementation detail\" of the napari\n",
      "application, not part of the napari viewer model. If your use case\n",
      "requires access to qt_viewer, please open an issue to discuss.\n",
      "  self.tools_menu = ToolsMenu(self, self.qt_viewer.viewer)\n"
     ]
    }
   ],
   "source": [
    "\n",
    "fit(hybes[4], fovs[30],icol=1,analysis_folder=r'S:\\ZaneTrit_3_3_2023_analysis',redo=True,hth = 50,plt_val=True)\n"
   ]
  },
  {
   "cell_type": "code",
   "execution_count": 382,
   "id": "fd3939d0",
   "metadata": {},
   "outputs": [],
   "source": [
    "def tag_to_hybe(tag):\n",
    "    try:\n",
    "        return int(tag[1:])\n",
    "    except:\n",
    "        return -1\n",
    "class decoder_simple():\n",
    "    def __init__(self,save_folder=r'S:\\ZaneTrit_3_3_2023_analysis',fov='Conv_zscan__30',ncols=2,\n",
    "                 hybe_bit_dic={(1, 1): 0, (1, 0): 1, (2, 0): 2, (2, 1): 3, (3, 1): 4, (3, 0): 5, (4, 1): 6, (4, 0): 7, (5, 0): 8, (5, 1): 9, (6, 1): 10, (6, 0): 11, (7, 1): 12, (7, 0): 13, (8, 0): 14, (8, 1): 15, (9, 1): 16, (9, 0): 17, (10, 1): 18, (10, 0): 19, (11, 0): 20, (11, 1): 21, (12, 1): 22, (12, 0): 23, (13, 1): 24, (13, 0): 25, (14, 1): 26, (14, 0): 27, (15, 1): 28, (15, 0): 29, (16, 1): 30, (16, 0): 31, (17, 1): 32, (17, 0): 33, (18, 1): 34, (18, 0): 35},\n",
    "                chromatic_fl = 'chromatic_abberation_matrix_Scope2DC60xobj.npy'):\n",
    "        self.save_folder = save_folder\n",
    "        self.fov = fov\n",
    "        self.decoded_fl = save_folder+os.sep+'decoded_'+fov.split('.')[0]+'.npz'\n",
    "        self.drift_fl = save_folder+os.sep+fov.split('.')[0]+'_drift.pkl'\n",
    "        self.ncols=ncols\n",
    "        self.hybe_bit_dic=hybe_bit_dic\n",
    "        self.chromatic_fl = self.save_folder+os.sep+chromatic_fl\n",
    "    def get_XH(self,excl=20,Xmax=2000):\n",
    "        \"\"\"Load in the fitted dots for each field of view.\n",
    "        Apply chromatic abberation correction and drift correction and append corrected fitted data \n",
    "        int self.XH structure\"\"\"\n",
    "        ncols = self.ncols\n",
    "        drift_dic = pickle.load(open(self.drift_fl,'rb'))\n",
    "        tags = list(drift_dic.keys())\n",
    "        if not os.path.exists(self.chromatic_fl):\n",
    "            self.m=None\n",
    "        else:\n",
    "            self.m = np.load(self.chromatic_fl)\n",
    "        XH = []\n",
    "        save_folder = self.save_folder\n",
    "        fov = self.fov\n",
    "        for tag in tqdm(tags):\n",
    "            iH = tag_to_hybe(tag)\n",
    "            for icol in range(ncols):\n",
    "                #tag = os.path.basename(fld)#Conv_zscan__30--H_GFP_fits_icol0\n",
    "                save_fl = save_folder+os.sep+fov.split('.')[0]+'--'+tag+'_fits_icol'+str(icol)+'.npz'\n",
    "                Xh = np.load(save_fl)['Xh']\n",
    "                X2d = Xh[:,1:3]\n",
    "                kp = np.all((X2d>excl)&(X2d<(Xmax-excl)),axis=-1)\n",
    "                Xh = Xh[kp]\n",
    "                tzxy = drift_dic[tag][0]\n",
    "                m=None\n",
    "                if icol==0: m=self.m\n",
    "                \n",
    "                Xh[:,:3] = apply_colorcor(Xh[:,:3],m=m)\n",
    "                Xh[:,:3]-=tzxy# drift correction\n",
    "                #chromatic abberation -to check\n",
    "                bit = self.hybe_bit_dic.get((iH,icol),-1)\n",
    "                icolR = np.array([[icol,bit]]*len(Xh))\n",
    "                XH_ = np.concatenate([Xh,icolR],axis=-1)\n",
    "                XH.extend(XH_)\n",
    "        self.XH = np.array(XH)\n",
    "    def load_library(self,lib_fl = r'codebook_0_New_DCBB-300_MERFISH_encoding_2_21_2023.csv',nblanks=-1):\n",
    "        code_txt = np.array([ln.replace('\\n','').split(',') for ln in open(lib_fl,'r') if ',' in ln])\n",
    "        gns = code_txt[1:,0]\n",
    "        code_01 = code_txt[1:,2:].astype(int)\n",
    "        codes = np.array([np.where(cd)[0] for cd in code_01])\n",
    "        codes_ = [list(np.sort(cd)) for cd in codes]\n",
    "        nbits = np.max(codes)+1\n",
    "\n",
    "        codes__ = codes_\n",
    "        gns__ = list(gns)\n",
    "        \n",
    "        self.lib_fl = lib_fl ### name of coding library\n",
    "        self.nbits = nbits ### number of bits\n",
    "        self.codes_01 = code_01\n",
    "        \n",
    "        \n",
    "        \n",
    "        if nblanks>=0:\n",
    "            ### get extrablanks\n",
    "            from scipy.spatial.distance import pdist,cdist\n",
    "            M = self.codes_01\n",
    "            non = np.sum(M,axis=1)[0]\n",
    "            ntotal = M.shape[-1]\n",
    "            random_codes = np.array([get_random_binary(non=non,ntotal=ntotal) for it in range(len(M))])\n",
    "            dM = cdist(random_codes,M,metric='hamming')*M.shape[-1]\n",
    "            minD = np.min(dM,axis=-1)\n",
    "            blank_barcodes = random_codes[minD>0]\n",
    "            \n",
    "            \n",
    "            dists_bits = pdist(blank_barcodes,metric='hamming')*blank_barcodes.shape[-1]\n",
    "            nbits,cts = np.unique(dists_bits,return_counts=True)\n",
    "            plt.figure()\n",
    "            plt.plot(nbits,cts,'o-',label='blanks')\n",
    "\n",
    "            dists_bits = pdist(M,metric='hamming')*M.shape[-1]\n",
    "            nbits,cts = np.unique(dists_bits,return_counts=True)\n",
    "            plt.plot(nbits,cts,'o-',label='real_codes')\n",
    "            plt.xlabel('Hamming distance')\n",
    "            plt.ylabel('Number of pairs of codes')\n",
    "            codes__ = codes_ + list(np.array([np.where(cd)[0] for cd in blank_barcodes]))\n",
    "            gns__ = list(gns)+ ['blanke'+str(ign+1).zfill(6) for ign in range(len(blank_barcodes))]\n",
    "        \n",
    "        bad_gns = np.array(['blank' in e for e in gns__])\n",
    "        good_gns = np.where(~bad_gns)[0]\n",
    "        bad_gns = np.where(bad_gns)[0]\n",
    "        if nblanks>=0:\n",
    "            self.codes_01 = np.concatenate([code_01,blank_barcodes],axis=0) ### final extended codes of form [0,1,0,0,1...]\n",
    "        self.gns_names = gns__  ### names of genes and blank codes\n",
    "        self.bad_gns = bad_gns ### indices of the blank codes\n",
    "        self.good_gns = good_gns ### indices of the good gene codes\n",
    "        self.codes__ = codes__ ### final extended codes of form [bit1,bit2,bit3,bit4]\n",
    "    def get_inters(self,dinstance_th=2,enforce_color=False):\n",
    "        \"\"\"Get an initial intersection of points and save in self.res\"\"\"\n",
    "        res =[]\n",
    "        if enforce_color:\n",
    "            icols = self.XH[:,-2]\n",
    "            XH = self.XH\n",
    "            for icol in tqdm(np.unique(icols)):\n",
    "                inds = np.where(icols==icol)[0]\n",
    "                Xs = XH[inds,:3]\n",
    "                Ts = cKDTree(Xs)\n",
    "                res_ = Ts.query_ball_tree(Ts,dinstance_th)\n",
    "                res += [inds[r] for r in res_]\n",
    "        else:\n",
    "            XH = self.XH\n",
    "            Xs = XH[:,:3]\n",
    "            Ts = cKDTree(Xs)\n",
    "            res = Ts.query_ball_tree(Ts,dinstance_th)\n",
    "        self.res = res\n",
    "    def get_icodes(self,nmin_bits=8,method = 'top',redo=False,norm_brightness=-1,enforce_unique=False):    \n",
    "        #### unfold res which is a list of list with clusters of loc.\n",
    "\n",
    "        res = self.res\n",
    "\n",
    "        import time\n",
    "        start = time.time()\n",
    "        res = [r for r in res if len(r)>=nmin_bits]\n",
    "        print(len(res))\n",
    "        #rlens = [len(r) for r in res]\n",
    "        #edges = np.cumsum([0]+rlens)\n",
    "        res_unfolder = np.array([r_ for r in res for r_ in r])\n",
    "        #res0 = np.array([r[0] for r in res for r_ in r])\n",
    "        ires = np.array([ir for ir,r in enumerate(res) for r_ in r])\n",
    "        print(\"Unfolded molecules:\",time.time()-start)\n",
    "\n",
    "        ### get scores across bits\n",
    "        import time\n",
    "        start = time.time()\n",
    "        RS = self.XH[:,-1].astype(int)\n",
    "        brighness = self.XH[:,-3]\n",
    "        brighness_n = brighness.copy()\n",
    "        if norm_brightness is not None:\n",
    "            colors = self.XH[:,norm_brightness]#self.XH[:,-1] for bits\n",
    "            med_cols = {col: np.median(brighness[col==colors])for col in np.unique(colors)}\n",
    "            for col in np.unique(colors):\n",
    "                brighness_n[col==colors]=brighness[col==colors]/med_cols[col]\n",
    "        scores = brighness_n[res_unfolder]\n",
    "\n",
    "        bits_unfold = RS[res_unfolder]\n",
    "        nbits = len(np.unique(RS))\n",
    "        scores_bits = np.zeros([len(res),nbits])\n",
    "        arg_scores = np.argsort(scores)\n",
    "        scores_bits[ires[arg_scores],bits_unfold[arg_scores]]=scores[arg_scores]\n",
    "        self.scores_bits = scores_bits #for each bit gives the normalized brightbess per bit\n",
    "\n",
    "\n",
    "        ### get the dictoionary with the reduced codes assumind dropoff and only nkeep onbits\n",
    "        nkeep=nmin_bits\n",
    "        import itertools\n",
    "        dec_dic = {}\n",
    "        for ic,cd in enumerate(M):\n",
    "            inds = np.where(cd)[0]\n",
    "\n",
    "            keys = list(itertools.combinations(inds,nkeep))\n",
    "            for key in keys:\n",
    "                if key not in dec_dic:dec_dic[key]=[]\n",
    "                dec_dic[key] += [ic]\n",
    "        self.dec_dic = dec_dic\n",
    "\n",
    "\n",
    "        import time\n",
    "        start = time.time()\n",
    "        ### There are multiple avenues here: \n",
    "        #### nearest neighbors - slowest\n",
    "        #### find top nmin_bits bits and call that a code - simplest and fastest\n",
    "\n",
    "\n",
    "        if method == 'top':\n",
    "            codes = self.codes__## changed\n",
    "            vals = np.argsort(scores_bits[:,:],axis=-1)\n",
    "            bcodes = np.sort(vals[:,-nmin_bits:],axis=-1)\n",
    "            dec_dic = self.dec_dic\n",
    "            icodesN = np.array([np.random.choice(dec_dic.get(tuple(cd),[-1])) for cd in bcodes])\n",
    "\n",
    "            self.icodesN_interm=icodesN\n",
    "            igood = np.where(icodesN>-1)[0]\n",
    "            inds_spotsN =  np.zeros([len(res),nbits],dtype=int)-1\n",
    "            inds_spotsN[ires[arg_scores],bits_unfold[arg_scores]]=res_unfolder[arg_scores]\n",
    "            res_prunedN = np.array([inds_spotsN[imol][codes[icd]] for imol,icd in enumerate(icodesN) if icd>-1])\n",
    "            scores_prunedN = np.array([scores_bits[imol][codes[icd]] for imol,icd in enumerate(icodesN) if icd>-1])\n",
    "            icodesN = icodesN[igood]\n",
    "\n",
    "        is_good = np.sum(np.array(res_prunedN)>-1,axis=-1)>=nmin_bits\n",
    "        res_prunedN = res_prunedN[is_good]\n",
    "        scores_prunedN = scores_prunedN[is_good]\n",
    "        icodesN = icodesN[is_good]\n",
    "        print(\"Computed the decoding:\",time.time()-start)\n",
    "\n",
    "\n",
    "        self.scores_prunedN = scores_prunedN\n",
    "        self.res_prunedN = res_prunedN\n",
    "        self.icodesN = icodesN\n",
    "        self.XH_pruned = self.XH[self.res_prunedN]\n",
    "\n",
    "\n",
    "\n",
    "\n",
    "        if enforce_unique:\n",
    "            import time\n",
    "            start = time.time()\n",
    "\n",
    "            mean_scores = np.mean(scores_prunedN,axis=-1)\n",
    "            ordered_mols = np.argsort(mean_scores)[::-1]\n",
    "            keep_mols = []\n",
    "            visited = np.zeros(len(self.XH))\n",
    "            for imol in tqdm(ordered_mols):\n",
    "                r = np.array(res_prunedN[imol])\n",
    "                r_ = r[r>=0]\n",
    "                if np.all(visited[r_]==0):\n",
    "                    keep_mols.append(imol)\n",
    "                    visited[r_]=1\n",
    "            keep_mols = np.array(keep_mols)\n",
    "            self.scores_prunedN = scores_prunedN[keep_mols]\n",
    "            self.res_prunedN = res_prunedN[keep_mols]\n",
    "            self.icodesN = icodesN[keep_mols]\n",
    "            print(\"Computed best unique assigment:\",time.time()-start)\n",
    "\n",
    "\n",
    "\n",
    "            self.XH_pruned = self.XH[self.res_prunedN]"
   ]
  },
  {
   "cell_type": "code",
   "execution_count": 400,
   "id": "d8c8026d",
   "metadata": {},
   "outputs": [
    {
     "name": "stderr",
     "output_type": "stream",
     "text": [
      "100%|██████████████████████████████████████████████████████████████████████████████████| 19/19 [00:02<00:00,  9.02it/s]\n"
     ]
    },
    {
     "data": {
      "image/png": "[encoded data removed]",
      "text/plain": [
       "<Figure size 432x288 with 1 Axes>"
      ]
     },
     "metadata": {
      "needs_background": "light"
     },
     "output_type": "display_data"
    }
   ],
   "source": [
    "\n",
    "dec = decoder_simple()\n",
    "dec.get_XH()\n",
    "dec.load_library(lib_fl = r'C:\\Users\\Scope2\\Scope2Scripts\\Zane_Ying_Virus\\codebook.csv',nblanks=1)\n",
    "dec.codes_01.shape\n",
    "keep = dec.XH[:,-1]>=0#keep only MERFISH\n",
    "dec.XH_GFP = dec.XH[~keep]#GFP\n",
    "dec.XH = dec.XH[keep]"
   ]
  },
  {
   "cell_type": "code",
   "execution_count": 401,
   "id": "99ff3d51",
   "metadata": {},
   "outputs": [],
   "source": [
    "dec.get_inters(dinstance_th=3.5)"
   ]
  },
  {
   "cell_type": "markdown",
   "id": "919efa1c",
   "metadata": {},
   "source": [
    "### Which codes are decoded?"
   ]
  },
  {
   "cell_type": "code",
   "execution_count": 472,
   "id": "20245b3a",
   "metadata": {},
   "outputs": [
    {
     "name": "stdout",
     "output_type": "stream",
     "text": [
      "379623\n",
      "Unfolded molecules: 0.6715595722198486\n",
      "Computed the decoding: 3.2227296829223633\n"
     ]
    },
    {
     "name": "stderr",
     "output_type": "stream",
     "text": [
      "100%|████████████████████████████████████████████████████████████████████████| 11783/11783 [00:00<00:00, 145346.62it/s]"
     ]
    },
    {
     "name": "stdout",
     "output_type": "stream",
     "text": [
      "Computed best unique assigment: 0.08507180213928223\n"
     ]
    },
    {
     "name": "stderr",
     "output_type": "stream",
     "text": [
      "\n"
     ]
    },
    {
     "data": {
      "text/plain": [
       "Text(0, 0.5, 'Number of decoded codes')"
      ]
     },
     "execution_count": 472,
     "metadata": {},
     "output_type": "execute_result"
    },
    {
     "data": {
      "image/png": "[encoded data removed]",
      "text/plain": [
       "<Figure size 432x288 with 1 Axes>"
      ]
     },
     "metadata": {
      "needs_background": "light"
     },
     "output_type": "display_data"
    }
   ],
   "source": [
    "get_icodes(dec,nmin_bits=7,method = 'top',redo=True,norm_brightness=-2,enforce_unique=True)\n",
    "cts,icds = np.histogram(dec.icodesN,bins=np.arange(len(dec.codes_01)+1))\n",
    "plt.plot(icds[:-1],cts)\n",
    "plt.xlabel('Index of codes in codebook')\n",
    "plt.ylabel(\"Number of decoded codes\")"
   ]
  },
  {
   "cell_type": "code",
   "execution_count": 471,
   "id": "21fac94d",
   "metadata": {},
   "outputs": [
    {
     "data": {
      "text/plain": [
       "Text(0, 0.5, 'Number of CRE transcripts')"
      ]
     },
     "execution_count": 471,
     "metadata": {},
     "output_type": "execute_result"
    },
    {
     "data": {
      "image/png": "[encoded data removed]",
      "text/plain": [
       "<Figure size 432x288 with 1 Axes>"
      ]
     },
     "metadata": {
      "needs_background": "light"
     },
     "output_type": "display_data"
    }
   ],
   "source": [
    "import pandas as pd\n",
    "cre_names = np.array(list(pd.read_csv('codebook.csv')['id']))\n",
    "nms,cts = np.unique(cre_names[dec.icodesN[dec.icodesN<len(cre_names)]],return_counts=True)\n",
    "plt.figure()\n",
    "plt.plot(cts,'o-')\n",
    "plt.xticks(np.arange(len(nms)),nms,rotation='vertical');\n",
    "plt.ylabel('Number of CRE transcripts')"
   ]
  },
  {
   "cell_type": "code",
   "execution_count": 473,
   "id": "28db32fe",
   "metadata": {},
   "outputs": [
    {
     "data": {
      "text/plain": [
       "Text(0, 0.5, 'Number of CRE transcripts')"
      ]
     },
     "execution_count": 473,
     "metadata": {},
     "output_type": "execute_result"
    },
    {
     "data": {
      "image/png": "[encoded data removed]",
      "text/plain": [
       "<Figure size 432x288 with 1 Axes>"
      ]
     },
     "metadata": {
      "needs_background": "light"
     },
     "output_type": "display_data"
    }
   ],
   "source": [
    "import pandas as pd\n",
    "cre_names = np.array(list(pd.read_csv('codebook.csv')['id']))\n",
    "nms,cts = np.unique(cre_names[dec.icodesN[dec.icodesN<len(cre_names)]],return_counts=True)\n",
    "plt.figure()\n",
    "plt.plot(cts,'o-')\n",
    "plt.xticks(np.arange(len(nms)),nms,rotation='vertical');\n",
    "plt.ylabel('Number of CRE transcripts')"
   ]
  },
  {
   "cell_type": "markdown",
   "id": "b0449d9f",
   "metadata": {},
   "source": [
    "### Plot the decoded barcodes"
   ]
  },
  {
   "cell_type": "code",
   "execution_count": 453,
   "id": "ddd5665a",
   "metadata": {},
   "outputs": [
    {
     "name": "stderr",
     "output_type": "stream",
     "text": [
      "C:\\Users\\Scope2\\anaconda3\\lib\\site-packages\\napari_tools_menu\\__init__.py:179: FutureWarning: Public access to Window.qt_viewer is deprecated and will be removed in\n",
      "v0.5.0. It is considered an \"implementation detail\" of the napari\n",
      "application, not part of the napari viewer model. If your use case\n",
      "requires access to qt_viewer, please open an issue to discuss.\n",
      "  self.tools_menu = ToolsMenu(self, self.qt_viewer.viewer)\n"
     ]
    }
   ],
   "source": [
    "### example on how to visualize the points\n",
    "nkeep =np.min(np.sum(dec.res_prunedN>-1,-1))\n",
    "ikeep = np.sort(dec.res_prunedN,axis=-1)[:,::-1][:,:nkeep]\n",
    "dec.XH_pruned = dec.XH[ikeep]\n",
    "\n",
    "XH_dec = np.mean(dec.XH_pruned[:,:,:],axis=1)\n",
    "H = XH_dec[:,-3]\n",
    "size = 4+np.clip(H/np.percentile(H,99),0,1)*10\n",
    "import napari\n",
    "viewer = napari.view_points(XH_dec[:,:3],size=size)"
   ]
  },
  {
   "cell_type": "markdown",
   "id": "2570f2f1",
   "metadata": {},
   "source": [
    "### Plot the 2 color GFP"
   ]
  },
  {
   "cell_type": "code",
   "execution_count": 454,
   "id": "d3a88a89",
   "metadata": {},
   "outputs": [
    {
     "data": {
      "text/plain": [
       "<Points layer 'Points [2]' at 0x1ebca38c4f0>"
      ]
     },
     "execution_count": 454,
     "metadata": {},
     "output_type": "execute_result"
    }
   ],
   "source": [
    "col = dec.XH_GFP[:,-2]\n",
    "dec.XH_GFP_1 = dec.XH_GFP[col==0,:]\n",
    "dec.XH_GFP_2 = dec.XH_GFP[col==1,:]\n",
    "import napari\n",
    "h = dec.XH_GFP_1[:,-3]\n",
    "size = np.clip(h/np.percentile(h,95),0,1)*5\n",
    "viewer.add_points(dec.XH_GFP_1[:,:3],face_color='r',blending='additive',size=size)\n",
    "h = dec.XH_GFP_2[:,-3]\n",
    "size = np.clip(h/np.percentile(h,95),0,1)*5\n",
    "viewer.add_points(dec.XH_GFP_2[:,:3],face_color='g',blending='additive',size=size)"
   ]
  },
  {
   "cell_type": "code",
   "execution_count": null,
   "id": "efd4be43",
   "metadata": {},
   "outputs": [],
   "source": []
  },
  {
   "cell_type": "code",
   "execution_count": 399,
   "id": "fd6e14f8",
   "metadata": {},
   "outputs": [
    {
     "name": "stderr",
     "output_type": "stream",
     "text": [
      "C:\\Users\\Scope2\\anaconda3\\lib\\site-packages\\napari_tools_menu\\__init__.py:179: FutureWarning: Public access to Window.qt_viewer is deprecated and will be removed in\n",
      "v0.5.0. It is considered an \"implementation detail\" of the napari\n",
      "application, not part of the napari viewer model. If your use case\n",
      "requires access to qt_viewer, please open an issue to discuss.\n",
      "  self.tools_menu = ToolsMenu(self, self.qt_viewer.viewer)\n"
     ]
    },
    {
     "data": {
      "text/plain": [
       "Viewer(axes=Axes(visible=False, labels=True, colored=True, dashed=False, arrows=True), camera=Camera(center=(0.0, 1003.3205575917281, 1006.2708082341934), zoom=0.25971940702513735, angles=(0.0, 0.0, 90.0), perspective=0.0, interactive=True), cursor=Cursor(position=(1.0, 1.0, 0.0), scaled=True, size=1, style=<CursorStyle.STANDARD: 'standard'>), dims=Dims(ndim=3, ndisplay=2, last_used=0, range=((2.9385482748974017, 74.54450246528452, 1.0), (26.6896507783219, 1980.9514644051342, 1.0), (44.64794438383235, 1968.8936720845543, 1.0)), current_step=(35, 976, 961), order=(0, 1, 2), axis_labels=('0', '1', '2')), grid=GridCanvas(stride=1, shape=(-1, -1), enabled=False), layers=[<Points layer 'X' at 0x1ec4233beb0>], scale_bar=ScaleBar(visible=False, colored=False, ticks=True, position=<Position.BOTTOM_RIGHT: 'bottom_right'>, font_size=10, unit=None), text_overlay=TextOverlay(visible=False, color=(0.5, 0.5, 0.5, 1.0), font_size=10, position=<TextOverlayPosition.TOP_LEFT: 'top_left'>, text=''), overlays=Overlays(interaction_box=InteractionBox(points=None, show=False, show_handle=False, show_vertices=False, selection_box_drag=None, selection_box_final=None, transform_start=<napari.utils.transforms.transforms.Affine object at 0x000001EBACBD0940>, transform_drag=<napari.utils.transforms.transforms.Affine object at 0x000001EBACBD09A0>, transform_final=<napari.utils.transforms.transforms.Affine object at 0x000001EBACBD0A00>, transform=<napari.utils.transforms.transforms.Affine object at 0x000001EBACBD0A60>, allow_new_selection=True, selected_vertex=None)), help='', status='Ready', tooltip=Tooltip(visible=False, text=''), theme='dark', title='napari', mouse_move_callbacks=[<function InteractionBoxMouseBindings.initialize_mouse_events.<locals>.mouse_move at 0x000001EC42334040>], mouse_drag_callbacks=[<function InteractionBoxMouseBindings.initialize_mouse_events.<locals>.mouse_drag at 0x000001EC42353C10>], mouse_double_click_callbacks=[], mouse_wheel_callbacks=[<function dims_scroll at 0x000001EB6BC724C0>], _persisted_mouse_event={}, _mouse_drag_gen={}, _mouse_wheel_gen={}, keymap={'Shift': <function InteractionBoxMouseBindings.initialize_key_events.<locals>.hold_to_lock_aspect_ratio at 0x000001EC42353550>, 'Control-Shift-R': <function InteractionBoxMouseBindings._reset_active_layer_affine at 0x000001EC423539D0>, 'Control-Shift-A': <function InteractionBoxMouseBindings._transform_active_layer at 0x000001EC42353310>})"
      ]
     },
     "execution_count": 399,
     "metadata": {},
     "output_type": "execute_result"
    }
   ],
   "source": []
  },
  {
   "cell_type": "code",
   "execution_count": null,
   "id": "4b079d1a",
   "metadata": {},
   "outputs": [],
   "source": []
  },
  {
   "cell_type": "code",
   "execution_count": 377,
   "id": "cc07ccb4",
   "metadata": {},
   "outputs": [
    {
     "name": "stderr",
     "output_type": "stream",
     "text": [
      "C:\\Users\\Scope2\\anaconda3\\lib\\site-packages\\napari_tools_menu\\__init__.py:179: FutureWarning: Public access to Window.qt_viewer is deprecated and will be removed in\n",
      "v0.5.0. It is considered an \"implementation detail\" of the napari\n",
      "application, not part of the napari viewer model. If your use case\n",
      "requires access to qt_viewer, please open an issue to discuss.\n",
      "  self.tools_menu = ToolsMenu(self, self.qt_viewer.viewer)\n"
     ]
    },
    {
     "data": {
      "text/plain": [
       "<Points layer 'Points [1]' at 0x1ebda0a7b20>"
      ]
     },
     "execution_count": 377,
     "metadata": {},
     "output_type": "execute_result"
    }
   ],
   "source": [
    "X = dec.XH[:,1:3]\n",
    "keep =  dec.XH[:,-1]==0\n",
    "viewer = napari.view_points(X[keep],size=10)\n",
    "keep =  dec.XH[:,-1]==10\n",
    "viewer.add_points(X[keep],size=10,face_color='r')"
   ]
  },
  {
   "cell_type": "code",
   "execution_count": 370,
   "id": "9ea6eba2",
   "metadata": {},
   "outputs": [],
   "source": [
    "dec.get_inters(dinstance_th=2)"
   ]
  },
  {
   "cell_type": "code",
   "execution_count": 332,
   "id": "2602b076",
   "metadata": {},
   "outputs": [
    {
     "data": {
      "text/plain": [
       "[<matplotlib.lines.Line2D at 0x1eada5cac40>]"
      ]
     },
     "execution_count": 332,
     "metadata": {},
     "output_type": "execute_result"
    },
    {
     "data": {
      "image/png": "[encoded data removed]",
      "text/plain": [
       "<Figure size 432x288 with 1 Axes>"
      ]
     },
     "metadata": {
      "needs_background": "light"
     },
     "output_type": "display_data"
    }
   ],
   "source": [
    "nes,cts = np.unique([len(c) for c in dec.res],return_counts=True)\n",
    "plt.semilogy(nes,cts,'o-')"
   ]
  },
  {
   "cell_type": "code",
   "execution_count": null,
   "id": "ddb16000",
   "metadata": {},
   "outputs": [],
   "source": []
  },
  {
   "cell_type": "code",
   "execution_count": 333,
   "id": "7ba3368d",
   "metadata": {},
   "outputs": [],
   "source": [
    "nkeep=8\n",
    "M = dec.codes_01\n",
    "import itertools\n",
    "dec_dic = {}\n",
    "for ic,cd in enumerate(M):\n",
    "    inds = np.where(cd)[0]\n",
    "    \n",
    "    keys = list(itertools.combinations(inds,nkeep))\n",
    "    for key in keys:\n",
    "        if key not in dec_dic:dec_dic[key]=[]\n",
    "        dec_dic[key] += [ic]"
   ]
  },
  {
   "cell_type": "code",
   "execution_count": 334,
   "id": "ff5cd6b0",
   "metadata": {},
   "outputs": [
    {
     "data": {
      "text/plain": [
       "1.0832085481254083"
      ]
     },
     "execution_count": 334,
     "metadata": {},
     "output_type": "execute_result"
    }
   ],
   "source": [
    "np.mean([len(dec_dic[key]) for key in dec_dic])"
   ]
  },
  {
   "cell_type": "code",
   "execution_count": 336,
   "id": "a22a8660",
   "metadata": {},
   "outputs": [],
   "source": [
    "#[len(dec_dic[key]) for key in dec_dic]"
   ]
  },
  {
   "cell_type": "code",
   "execution_count": 170,
   "id": "4d08bea0",
   "metadata": {},
   "outputs": [],
   "source": []
  },
  {
   "cell_type": "code",
   "execution_count": 364,
   "id": "75706244",
   "metadata": {},
   "outputs": [
    {
     "name": "stdout",
     "output_type": "stream",
     "text": [
      "110743\n",
      "Unfolded molecules: 0.2912461757659912\n",
      "Computed the decoding: 0.9638161659240723\n"
     ]
    },
    {
     "name": "stderr",
     "output_type": "stream",
     "text": [
      "100%|██████████████████████████████████████████████████████████████████████████| 2310/2310 [00:00<00:00, 109908.14it/s]"
     ]
    },
    {
     "name": "stdout",
     "output_type": "stream",
     "text": [
      "Computed best unique assigment: 0.02301931381225586\n"
     ]
    },
    {
     "name": "stderr",
     "output_type": "stream",
     "text": [
      "\n"
     ]
    }
   ],
   "source": []
  },
  {
   "cell_type": "code",
   "execution_count": 365,
   "id": "dc1ace9e",
   "metadata": {},
   "outputs": [
    {
     "data": {
      "text/plain": [
       "[<matplotlib.lines.Line2D at 0x1eb42f8ea00>]"
      ]
     },
     "execution_count": 365,
     "metadata": {},
     "output_type": "execute_result"
    },
    {
     "data": {
      "image/png": "[encoded data removed]",
      "text/plain": [
       "<Figure size 432x288 with 1 Axes>"
      ]
     },
     "metadata": {
      "needs_background": "light"
     },
     "output_type": "display_data"
    }
   ],
   "source": []
  },
  {
   "cell_type": "code",
   "execution_count": 366,
   "id": "8d9b20d2",
   "metadata": {},
   "outputs": [
    {
     "name": "stderr",
     "output_type": "stream",
     "text": [
      "C:\\Users\\Scope2\\anaconda3\\lib\\site-packages\\napari_tools_menu\\__init__.py:179: FutureWarning: Public access to Window.qt_viewer is deprecated and will be removed in\n",
      "v0.5.0. It is considered an \"implementation detail\" of the napari\n",
      "application, not part of the napari viewer model. If your use case\n",
      "requires access to qt_viewer, please open an issue to discuss.\n",
      "  self.tools_menu = ToolsMenu(self, self.qt_viewer.viewer)\n"
     ]
    },
    {
     "data": {
      "text/plain": [
       "Viewer(axes=Axes(visible=False, labels=True, colored=True, dashed=False, arrows=True), camera=Camera(center=(0.0, 993.36140200474, 1001.7416086976258), zoom=0.602919242504572, angles=(0.0, 0.0, 90.0), perspective=0.0, interactive=True), cursor=Cursor(position=(1.0, 1.0, 0.0), scaled=True, size=1, style=<CursorStyle.STANDARD: 'standard'>), dims=Dims(ndim=3, ndisplay=2, last_used=0, range=((2.9385482748974017, 74.57037978811738, 1.0), (26.6896507783219, 1961.033153231158, 1.0), (44.89029376942064, 1959.592923625831, 1.0)), current_step=(35, 966, 957), order=(0, 1, 2), axis_labels=('0', '1', '2')), grid=GridCanvas(stride=1, shape=(-1, -1), enabled=False), layers=[<Points layer 'X' at 0x1eb46cbac10>], scale_bar=ScaleBar(visible=False, colored=False, ticks=True, position=<Position.BOTTOM_RIGHT: 'bottom_right'>, font_size=10, unit=None), text_overlay=TextOverlay(visible=False, color=(0.5, 0.5, 0.5, 1.0), font_size=10, position=<TextOverlayPosition.TOP_LEFT: 'top_left'>, text=''), overlays=Overlays(interaction_box=InteractionBox(points=None, show=False, show_handle=False, show_vertices=False, selection_box_drag=None, selection_box_final=None, transform_start=<napari.utils.transforms.transforms.Affine object at 0x000001EB45C5AFD0>, transform_drag=<napari.utils.transforms.transforms.Affine object at 0x000001EB45C5AF70>, transform_final=<napari.utils.transforms.transforms.Affine object at 0x000001EB45C5A880>, transform=<napari.utils.transforms.transforms.Affine object at 0x000001EB45C5AB80>, allow_new_selection=True, selected_vertex=None)), help='', status='Ready', tooltip=Tooltip(visible=False, text=''), theme='dark', title='napari', mouse_move_callbacks=[<function InteractionBoxMouseBindings.initialize_mouse_events.<locals>.mouse_move at 0x000001EB46CCA1F0>], mouse_drag_callbacks=[<function InteractionBoxMouseBindings.initialize_mouse_events.<locals>.mouse_drag at 0x000001EB46CB6670>], mouse_double_click_callbacks=[], mouse_wheel_callbacks=[<function dims_scroll at 0x000001EB6BC724C0>], _persisted_mouse_event={}, _mouse_drag_gen={}, _mouse_wheel_gen={}, keymap={'Shift': <function InteractionBoxMouseBindings.initialize_key_events.<locals>.hold_to_lock_aspect_ratio at 0x000001EB46CB6280>, 'Control-Shift-R': <function InteractionBoxMouseBindings._reset_active_layer_affine at 0x000001EB46CB6DC0>, 'Control-Shift-A': <function InteractionBoxMouseBindings._transform_active_layer at 0x000001EB46CB6B80>})"
      ]
     },
     "execution_count": 366,
     "metadata": {},
     "output_type": "execute_result"
    }
   ],
   "source": [
    "### example on how to visualize the points\n",
    "dec.XH_pruned = dec.XH[np.sort(dec.res_prunedN,axis=-1)[:,::-1]]\n",
    "X = dec.XH_pruned[:,0,:3]\n",
    "import napari\n",
    "napari.view_points(X)"
   ]
  },
  {
   "cell_type": "code",
   "execution_count": 249,
   "id": "6b67a1c3",
   "metadata": {},
   "outputs": [
    {
     "data": {
      "text/plain": [
       "1.0"
      ]
     },
     "execution_count": 249,
     "metadata": {},
     "output_type": "execute_result"
    }
   ],
   "source": [
    "np.mean(np.array([np.sum(cd>-1)for cd in dec.res_prunedN])>=7)"
   ]
  },
  {
   "cell_type": "code",
   "execution_count": 248,
   "id": "5fca1838",
   "metadata": {},
   "outputs": [
    {
     "data": {
      "text/plain": [
       "array([7, 7, 8, 7, 7, 7, 8, 7, 7, 7, 7, 7, 7, 7, 7, 7, 7, 7, 7, 7, 7, 7,\n",
       "       9, 7, 7, 7, 7, 7, 7, 7, 7, 8, 8, 7, 7, 7, 7, 7, 7, 7, 7, 7, 7, 7,\n",
       "       7, 7, 7, 7, 8, 7, 7, 9, 8, 7, 7, 7, 7, 7, 7, 7, 7, 7, 7, 7, 8, 7,\n",
       "       7, 8, 7, 7, 7, 7, 7, 7, 7, 7, 7, 7, 7, 8, 7, 7, 7, 7, 7, 9, 7, 7,\n",
       "       7, 7, 7, 7, 7, 7, 7, 7, 7, 7, 7, 7, 7, 7, 7, 7, 8, 7, 8, 8, 8, 7,\n",
       "       7, 7, 7, 7, 7, 7, 7, 7, 8, 7, 7, 7, 8, 7, 7, 7, 7, 8, 8, 7, 7, 7,\n",
       "       7, 7, 7, 7, 8, 7, 7, 8, 8, 8, 7, 8, 8, 8, 7, 8, 8, 8, 8, 7, 7, 7,\n",
       "       7, 8, 9, 7, 7, 7, 8, 7, 8, 7, 7, 8, 8, 7, 8, 7, 8, 8, 7, 7, 8, 8,\n",
       "       7, 7, 8, 7, 7, 7, 7, 8, 7, 7, 8, 7, 8, 7, 7, 7, 7, 7, 7, 8, 8, 7,\n",
       "       7, 7, 7, 7, 7, 8, 7, 8, 8, 7, 8, 8, 7, 7, 7, 7, 7, 7, 8, 7, 7, 7,\n",
       "       7, 7, 7, 7, 8, 7, 7, 7, 8, 7, 7, 7, 8, 7, 7, 7, 7, 7, 7, 8, 8, 7,\n",
       "       8, 7, 7, 7, 7, 7, 7, 7, 7, 7, 7, 7, 7, 7, 8, 7, 7, 7, 7, 7, 7, 7,\n",
       "       7, 7, 7, 7, 7, 7, 7, 7, 7, 7, 7, 7, 7, 8, 7, 8, 7, 7, 7, 7, 7, 7,\n",
       "       7, 7, 7, 7, 7, 8, 7, 7, 7, 7, 7, 7, 7, 7, 7, 7, 7, 7, 7, 7, 7, 7,\n",
       "       7, 7, 7, 7, 7, 7, 7, 7, 7, 7, 7, 7, 7, 7, 7, 7, 7, 7, 7, 7, 7, 7,\n",
       "       7, 7, 7, 7, 7, 7, 7, 7, 7, 7, 7, 7, 7, 7, 7, 7, 7, 7, 7, 7, 7, 7,\n",
       "       7, 7, 7, 7, 7, 7, 7, 7, 7, 7, 7, 7, 8, 7, 8, 7, 7, 7, 7, 7, 7, 7,\n",
       "       7, 7, 7, 7, 7, 7, 7, 7, 7, 7, 7, 7, 7, 7, 7, 7, 7, 7, 7, 7, 7, 7,\n",
       "       7, 7, 7, 7, 7, 7, 7, 7, 7, 7, 7, 7, 7, 7, 7, 7, 7, 7, 7, 7, 7, 7,\n",
       "       7, 7, 7, 7, 7, 7, 7, 7, 7, 7, 7, 7, 7, 7, 7, 7, 7, 7, 7, 7, 7, 7,\n",
       "       7, 7, 7, 7, 7, 7, 7, 7, 7, 7, 7, 7, 7, 7, 7, 7, 7, 7, 7, 7, 7, 7,\n",
       "       7, 7, 7, 7, 7, 7, 7, 7, 7, 7, 7, 7, 7, 7, 7, 7, 7, 7, 7, 7, 7, 7,\n",
       "       7, 7, 7, 7, 7, 7, 7, 7, 7, 7, 7, 7, 7, 7, 7, 7, 7, 7, 7, 7, 7, 7,\n",
       "       7, 7, 7, 7, 7, 7, 7, 7, 7, 7, 7, 7, 7, 7, 7, 7, 7, 7, 7, 7, 7, 7,\n",
       "       7, 7, 7, 7, 7, 7, 7, 7, 7, 7, 7, 7, 7, 7, 7, 7, 7, 7, 7, 7, 7, 7,\n",
       "       7, 7, 7, 7, 7, 7, 7, 7, 7, 7, 7, 7, 7, 7, 7, 7, 7, 7, 7, 7, 7, 7,\n",
       "       7, 7, 7, 7, 7, 7, 7, 7, 7])"
      ]
     },
     "execution_count": 248,
     "metadata": {},
     "output_type": "execute_result"
    }
   ],
   "source": [
    "np.array([np.sum(cd>-1)for cd in dec.res_prunedN])"
   ]
  },
  {
   "cell_type": "code",
   "execution_count": 213,
   "id": "2530990c",
   "metadata": {},
   "outputs": [
    {
     "data": {
      "text/plain": [
       "7416"
      ]
     },
     "execution_count": 213,
     "metadata": {},
     "output_type": "execute_result"
    }
   ],
   "source": [
    "np.sum(dec.icodesN_interm>-1)"
   ]
  },
  {
   "cell_type": "code",
   "execution_count": 217,
   "id": "1a8e9cad",
   "metadata": {},
   "outputs": [
    {
     "data": {
      "text/plain": [
       "(5929, 12, 10)"
      ]
     },
     "execution_count": 217,
     "metadata": {},
     "output_type": "execute_result"
    }
   ],
   "source": [
    "dec.XH_pruned.shape"
   ]
  },
  {
   "cell_type": "code",
   "execution_count": 135,
   "id": "f4fca721",
   "metadata": {},
   "outputs": [
    {
     "data": {
      "text/plain": [
       "[<matplotlib.lines.Line2D at 0x1eaabfceb20>]"
      ]
     },
     "execution_count": 135,
     "metadata": {},
     "output_type": "execute_result"
    },
    {
     "data": {
      "image/png": "[encoded data removed]",
      "text/plain": [
       "<Figure size 432x288 with 1 Axes>"
      ]
     },
     "metadata": {
      "needs_background": "light"
     },
     "output_type": "display_data"
    }
   ],
   "source": [
    "plt.plot(dec.scores_bits[0],'o-')"
   ]
  },
  {
   "cell_type": "code",
   "execution_count": null,
   "id": "0162fbee",
   "metadata": {},
   "outputs": [],
   "source": []
  },
  {
   "cell_type": "code",
   "execution_count": 128,
   "id": "b39bf5a1",
   "metadata": {},
   "outputs": [
    {
     "name": "stdout",
     "output_type": "stream",
     "text": [
      "Unfolded molecules: 0.21117949485778809\n"
     ]
    }
   ],
   "source": [
    "get_icodes(dec,nmin_bits=7,method = 'top',redo=False,norm_brightness=-1)"
   ]
  },
  {
   "cell_type": "code",
   "execution_count": null,
   "id": "b3072bde",
   "metadata": {},
   "outputs": [],
   "source": [
    "\n",
    "    import time\n",
    "    start = time.time()\n",
    "    ### There are multiple avenues here: \n",
    "    #### nearest neighbors - slowest\n",
    "    #### best dot product - reasonable and can return missing elements - medium speed\n",
    "    #### find top 4 bits and call that a code - simplest and fastest\n",
    "\n",
    "\n",
    "    if method == 'top4':\n",
    "        codes = self.codes__\n",
    "        vals = np.argsort(scores_bits,axis=-1)\n",
    "        bcodes = np.sort(vals[:,-4:],axis=-1)\n",
    "        base = [nbits**3,nbits**2,nbits**1,nbits**0]\n",
    "        bcodes_b = np.sum(bcodes*base,axis=1)\n",
    "        codes_b = np.sum(np.sort(codes,axis=-1)*base,axis=1)\n",
    "        icodesN = np.zeros(len(bcodes_b),dtype=int)-1\n",
    "        for icd,cd in enumerate(codes_b):\n",
    "            icodesN[bcodes_b==cd]=icd\n",
    "        bad = np.sum(scores_bits>0,axis=-1)<4\n",
    "        icodesN[bad]=-1\n",
    "        igood = np.where(icodesN>-1)[0]\n",
    "        inds_spotsN =  np.zeros([len(res),nbits],dtype=int)-1\n",
    "        inds_spotsN[ires[arg_scores],bits_unfold[arg_scores]]=res_unfolder[arg_scores]\n",
    "        res_prunedN = np.array([inds_spotsN[imol][codes[icd]] for imol,icd in enumerate(icodesN) if icd>-1])\n",
    "        scores_prunedN = np.array([scores_bits[imol][codes[icd]] for imol,icd in enumerate(icodesN) if icd>-1])\n",
    "        icodesN = icodesN[igood]\n",
    "    elif method == 'dot':\n",
    "        icodesN = np.argmax(np.dot(scores_bits[:],self.codes_01.T),axis=-1)\n",
    "        inds_spotsN =  np.zeros([len(res),nbits],dtype=int)-1\n",
    "        inds_spotsN[ires[arg_scores],bits_unfold[arg_scores]]=res_unfolder[arg_scores]\n",
    "        res_prunedN = np.array([inds_spotsN[imol][codes[icd]] for imol,icd in enumerate(icodesN) if icd>-1])\n",
    "        scores_prunedN = np.array([scores_bits[imol][codes[icd]] for imol,icd in enumerate(icodesN) if icd>-1])\n",
    "\n",
    "    print(\"Computed the decoding:\",time.time()-start)\n",
    "\n",
    "    import time\n",
    "    start = time.time()\n",
    "\n",
    "    mean_scores = np.mean(scores_prunedN,axis=-1)\n",
    "    ordered_mols = np.argsort(mean_scores)[::-1]\n",
    "    keep_mols = []\n",
    "    visited = np.zeros(len(self.XH))\n",
    "    for imol in tqdm(ordered_mols):\n",
    "        r = np.array(res_prunedN[imol])\n",
    "        r_ = r[r>=0]\n",
    "        if np.all(visited[r_]==0):\n",
    "            keep_mols.append(imol)\n",
    "            visited[r_]=1\n",
    "    keep_mols = np.array(keep_mols)\n",
    "    self.scores_prunedN = scores_prunedN[keep_mols]\n",
    "    self.res_prunedN = res_prunedN[keep_mols]\n",
    "    self.icodesN = icodesN[keep_mols]\n",
    "    print(\"Computed best unique assigment:\",time.time()-start)\n",
    "\n",
    "    XH_pruned = self.XH[self.res_prunedN]\n",
    "    np.savez_compressed(self.decoded_fl,XH_pruned=XH_pruned,icodesN=self.icodesN,gns_names = np.array(self.gns_names))\n",
    "    #XH_pruned -> 10000000 X 4 X 10 [z,x,y,bk...,corpsf,h,col,bit] \n",
    "    #icodesN -> 10000000 index of the decoded molecules in gns_names\n",
    "    #gns_names"
   ]
  },
  {
   "cell_type": "code",
   "execution_count": null,
   "id": "b9977f59",
   "metadata": {},
   "outputs": [],
   "source": []
  },
  {
   "cell_type": "code",
   "execution_count": null,
   "id": "2f7d7cc8",
   "metadata": {},
   "outputs": [],
   "source": []
  },
  {
   "cell_type": "code",
   "execution_count": 125,
   "id": "323ed73d",
   "metadata": {},
   "outputs": [
    {
     "data": {
      "text/plain": [
       "array([0.91787715, 0.63468053, 0.55185083, 0.52759392, 0.51456181,\n",
       "       0.48037588, 0.43549986, 0.39943421, 0.32717222, 0.33421331,\n",
       "       0.25908373, 0.24390244, 0.275     , 0.09090909])"
      ]
     },
     "execution_count": 125,
     "metadata": {},
     "output_type": "execute_result"
    }
   ],
   "source": [
    "cts[1:]/cts[:-1]"
   ]
  },
  {
   "cell_type": "code",
   "execution_count": 103,
   "id": "62a9faea",
   "metadata": {},
   "outputs": [
    {
     "data": {
      "text/plain": [
       "[(793762, 1),\n",
       " (728576, 2),\n",
       " (462413, 3),\n",
       " (255183, 4),\n",
       " (134633, 5),\n",
       " (69277, 6),\n",
       " (33279, 7),\n",
       " (14493, 8),\n",
       " (5789, 9),\n",
       " (1894, 10),\n",
       " (633, 11),\n",
       " (164, 12),\n",
       " (40, 13),\n",
       " (11, 14),\n",
       " (1, 15)]"
      ]
     },
     "execution_count": 103,
     "metadata": {},
     "output_type": "execute_result"
    }
   ],
   "source": [
    "list(zip(cts,nes))"
   ]
  },
  {
   "cell_type": "code",
   "execution_count": 95,
   "id": "6ca7ba0a",
   "metadata": {},
   "outputs": [
    {
     "data": {
      "text/plain": [
       "[1300, 79515]"
      ]
     },
     "execution_count": 95,
     "metadata": {},
     "output_type": "execute_result"
    }
   ],
   "source": [
    "dec.res[1300]"
   ]
  },
  {
   "cell_type": "code",
   "execution_count": 46,
   "id": "ff3e2b6c",
   "metadata": {},
   "outputs": [
    {
     "data": {
      "text/plain": [
       "(36, 12)"
      ]
     },
     "execution_count": 46,
     "metadata": {},
     "output_type": "execute_result"
    }
   ],
   "source": [
    "non = np.sum(dec.codes_01,axis=1)[0]\n",
    "ntotal = dec.codes_01.shape[-1]\n",
    "ntotal,non"
   ]
  },
  {
   "cell_type": "code",
   "execution_count": 48,
   "id": "302cd955",
   "metadata": {},
   "outputs": [],
   "source": [
    "def get_random_binary(non=12,ntotal=36):\n",
    "    ind = np.random.choice(np.arange(ntotal),non,replace=False)\n",
    "    base = np.zeros(ntotal)\n",
    "    base[ind] = 1\n",
    "    return base"
   ]
  },
  {
   "cell_type": "code",
   "execution_count": 71,
   "id": "326de148",
   "metadata": {},
   "outputs": [
    {
     "data": {
      "text/plain": [
       "Text(0, 0.5, 'Number of pairs of codes')"
      ]
     },
     "execution_count": 71,
     "metadata": {},
     "output_type": "execute_result"
    },
    {
     "data": {
      "image/png": "[encoded data removed]",
      "text/plain": [
       "<Figure size 432x288 with 1 Axes>"
      ]
     },
     "metadata": {
      "needs_background": "light"
     },
     "output_type": "display_data"
    }
   ],
   "source": []
  },
  {
   "cell_type": "code",
   "execution_count": 42,
   "id": "e7773c7b",
   "metadata": {},
   "outputs": [
    {
     "data": {
      "text/plain": [
       "[<matplotlib.lines.Line2D at 0x1eaa9a4ebb0>]"
      ]
     },
     "execution_count": 42,
     "metadata": {},
     "output_type": "execute_result"
    },
    {
     "data": {
      "image/png": "[encoded data removed]",
      "text/plain": [
       "<Figure size 432x288 with 1 Axes>"
      ]
     },
     "metadata": {
      "needs_background": "light"
     },
     "output_type": "display_data"
    }
   ],
   "source": [
    "\n",
    "from scipy.spatial.distance import pdist,cdist\n",
    "dists_bits = pdist(M,metric='hamming')*M.shape[-1]\n",
    "nbits,cts = np.unique(dists_bits,return_counts=True)\n",
    "plt.plot(nbits,cts,'o-')"
   ]
  },
  {
   "cell_type": "code",
   "execution_count": null,
   "id": "28af3c8d",
   "metadata": {},
   "outputs": [],
   "source": []
  },
  {
   "cell_type": "code",
   "execution_count": 10,
   "id": "f4d4a26d",
   "metadata": {},
   "outputs": [
    {
     "data": {
      "text/plain": [
       "(2500148, 10)"
      ]
     },
     "execution_count": 10,
     "metadata": {},
     "output_type": "execute_result"
    }
   ],
   "source": [
    "dec.XH.shape\n",
    "zc,xc,yc ,bk,a,habs,correlation with PSF,h - brightness, color: 0-750, 1-647, bit"
   ]
  },
  {
   "cell_type": "code",
   "execution_count": 15,
   "id": "f30c2350",
   "metadata": {},
   "outputs": [
    {
     "data": {
      "text/plain": [
       "array([[ 1.37663958e+00,  9.22581802e+01,  1.34526375e+03, ...,\n",
       "         1.49939453e+02,  0.00000000e+00, -1.00000000e+00],\n",
       "       [ 1.41169131e+00,  9.42972973e+01,  1.35129914e+03, ...,\n",
       "         5.27304688e+01,  0.00000000e+00, -1.00000000e+00],\n",
       "       [ 5.59608744e-01,  1.11287564e+02,  1.07097868e+03, ...,\n",
       "         5.03627930e+01,  0.00000000e+00, -1.00000000e+00],\n",
       "       ...,\n",
       "       [ 7.26105419e+01,  1.99003336e+03,  6.05099061e+02, ...,\n",
       "         5.37629395e+01,  1.00000000e+00,  3.40000000e+01],\n",
       "       [ 7.28895017e+01,  1.99291632e+03,  1.83303811e+03, ...,\n",
       "         5.67423096e+01,  1.00000000e+00,  3.40000000e+01],\n",
       "       [ 7.29865126e+01,  1.99386290e+03,  9.18988709e+02, ...,\n",
       "         5.41710205e+01,  1.00000000e+00,  3.40000000e+01]])"
      ]
     },
     "execution_count": 15,
     "metadata": {},
     "output_type": "execute_result"
    }
   ],
   "source": [
    "dec.XH"
   ]
  },
  {
   "cell_type": "code",
   "execution_count": 13,
   "id": "40e9e505",
   "metadata": {},
   "outputs": [
    {
     "data": {
      "text/plain": [
       "array([-1.,  0.,  1.,  2.,  3.,  4.,  5.,  6.,  7.,  8.,  9., 10., 11.,\n",
       "       12., 13., 14., 15., 16., 17., 18., 19., 20., 21., 22., 23., 24.,\n",
       "       25., 26., 27., 28., 29., 30., 31., 32., 33., 34., 35.])"
      ]
     },
     "execution_count": 13,
     "metadata": {},
     "output_type": "execute_result"
    }
   ],
   "source": [
    "np.unique(dec.XH[:,-1])"
   ]
  },
  {
   "cell_type": "code",
   "execution_count": 12,
   "id": "43b1f28a",
   "metadata": {},
   "outputs": [
    {
     "data": {
      "text/plain": [
       "8"
      ]
     },
     "execution_count": 12,
     "metadata": {},
     "output_type": "execute_result"
    }
   ],
   "source": [
    "len('''zc,xc,yc,bk,a,habs,hn,h'''.split(','))"
   ]
  },
  {
   "cell_type": "code",
   "execution_count": 14,
   "id": "d72ff329",
   "metadata": {},
   "outputs": [
    {
     "name": "stdout",
     "output_type": "stream",
     "text": [
      " Volume in drive C has no label.\n",
      " Volume Serial Number is 1499-8C83\n",
      "\n",
      " Directory of C:\\Users\\Scope2\\Scope2Scripts\\Zane_Ying_Virus\n",
      "\n",
      "03/30/2023  06:30 PM    <DIR>          .\n",
      "03/30/2023  06:30 PM    <DIR>          ..\n",
      "03/27/2023  04:02 PM    <DIR>          .ipynb_checkpoints\n",
      "03/30/2023  04:48 PM            19,004 First_Exploration_of_data.ipynb\n",
      "03/30/2023  06:30 PM            37,721 FitAndDriftCorrectData.ipynb\n",
      "03/30/2023  06:19 PM            82,074 GFP2Color_ChromatiAberration.ipynb\n",
      "03/30/2023  06:15 PM            90,137 ioMicro.py\n",
      "03/30/2023  06:25 PM    <DIR>          __pycache__\n",
      "               4 File(s)        228,936 bytes\n",
      "               4 Dir(s)  17,665,586,028,544 bytes free\n"
     ]
    }
   ],
   "source": [
    "!dir"
   ]
  },
  {
   "cell_type": "code",
   "execution_count": 30,
   "id": "8c78eccb",
   "metadata": {},
   "outputs": [],
   "source": [
    "dec = decoder_simple()"
   ]
  },
  {
   "cell_type": "code",
   "execution_count": 32,
   "id": "d3f2198b",
   "metadata": {},
   "outputs": [
    {
     "data": {
      "text/plain": [
       "array([[ 9.41184748e-01, -3.10163088e-05,  7.84166315e-06,\n",
       "         0.00000000e+00],\n",
       "       [ 1.44952186e+00, -1.49976842e-04,  9.17708808e-04,\n",
       "         0.00000000e+00],\n",
       "       [-1.56259698e+00,  1.28744781e-03, -1.09815209e-06,\n",
       "         0.00000000e+00]])"
      ]
     },
     "execution_count": 32,
     "metadata": {},
     "output_type": "execute_result"
    }
   ],
   "source": [
    "m_mat = np.load(dec.chromatic_fl)"
   ]
  },
  {
   "cell_type": "code",
   "execution_count": null,
   "id": "99a1ee50",
   "metadata": {},
   "outputs": [],
   "source": []
  },
  {
   "cell_type": "code",
   "execution_count": 25,
   "id": "46bc9228",
   "metadata": {},
   "outputs": [],
   "source": [
    "vals = ['Alexa750','Cy5']\n",
    "bit_dic = {(ibit//2+1,icol):ibit for ibit,icol in enumerate([vals.index(e) for e in lst])}"
   ]
  },
  {
   "cell_type": "code",
   "execution_count": 27,
   "id": "77986a0d",
   "metadata": {},
   "outputs": [
    {
     "name": "stdout",
     "output_type": "stream",
     "text": [
      "{(1, 1): 0, (1, 0): 1, (2, 0): 2, (2, 1): 3, (3, 1): 4, (3, 0): 5, (4, 1): 6, (4, 0): 7, (5, 0): 8, (5, 1): 9, (6, 1): 10, (6, 0): 11, (7, 1): 12, (7, 0): 13, (8, 0): 14, (8, 1): 15, (9, 1): 16, (9, 0): 17, (10, 1): 18, (10, 0): 19, (11, 0): 20, (11, 1): 21, (12, 1): 22, (12, 0): 23, (13, 1): 24, (13, 0): 25, (14, 1): 26, (14, 0): 27, (15, 1): 28, (15, 0): 29, (16, 1): 30, (16, 0): 31, (17, 1): 32, (17, 0): 33, (18, 1): 34, (18, 0): 35}\n"
     ]
    }
   ],
   "source": [
    "print(bit_dic)"
   ]
  },
  {
   "cell_type": "code",
   "execution_count": null,
   "id": "ea99f38b",
   "metadata": {},
   "outputs": [],
   "source": []
  },
  {
   "cell_type": "code",
   "execution_count": 20,
   "id": "9ab1cde8",
   "metadata": {},
   "outputs": [],
   "source": [
    "lst = \"\"\"Cy5\n",
    "Alexa750\n",
    "Alexa750\n",
    "Cy5\n",
    "Cy5\n",
    "Alexa750\n",
    "Cy5\n",
    "Alexa750\n",
    "Alexa750\n",
    "Cy5\n",
    "Cy5\n",
    "Alexa750\n",
    "Cy5\n",
    "Alexa750\n",
    "Alexa750\n",
    "Cy5\n",
    "Cy5\n",
    "Alexa750\n",
    "Cy5\n",
    "Alexa750\n",
    "Alexa750\n",
    "Cy5\n",
    "Cy5\n",
    "Alexa750\n",
    "Cy5\n",
    "Alexa750\n",
    "Cy5\n",
    "Alexa750\n",
    "Cy5\n",
    "Alexa750\n",
    "Cy5\n",
    "Alexa750\n",
    "Cy5\n",
    "Alexa750\n",
    "Cy5\n",
    "Alexa750\"\"\".split('\\n')"
   ]
  },
  {
   "cell_type": "code",
   "execution_count": null,
   "id": "806cc68b",
   "metadata": {},
   "outputs": [],
   "source": []
  },
  {
   "cell_type": "code",
   "execution_count": 14,
   "id": "27ba1922",
   "metadata": {},
   "outputs": [
    {
     "data": {
      "text/plain": [
       "{'H_GFP': [array([  0,   5, -93]),\n",
       "  [array([  0,   5, -93], dtype=int64),\n",
       "   array([  0,   5, -93], dtype=int64),\n",
       "   array([  0,   5, -93], dtype=int64),\n",
       "   array([  0,   4, -92], dtype=int64),\n",
       "   array([  0,   6, -93], dtype=int64)]],\n",
       " 'H1': [array([ 0, 99, 90]),\n",
       "  [array([ 0, 98, 90], dtype=int64),\n",
       "   array([ 0, 99, 91], dtype=int64),\n",
       "   array([ 0, 99, 90], dtype=int64),\n",
       "   array([ 0, 99, 90], dtype=int64),\n",
       "   array([ 0, 98, 90], dtype=int64)]],\n",
       " 'H2': [array([ 0, 22, 45]),\n",
       "  [array([ 0, 22, 45], dtype=int64),\n",
       "   array([ 0, 23, 45], dtype=int64),\n",
       "   array([ 0, 22, 45], dtype=int64),\n",
       "   array([ 0, 22, 45], dtype=int64),\n",
       "   array([ 0, 22, 45], dtype=int64)]],\n",
       " 'H3': [array([ 0, -7, 16]),\n",
       "  [array([ 0, -7, 16], dtype=int64),\n",
       "   array([ 0, -6, 16], dtype=int64),\n",
       "   array([ 0, -6, 16], dtype=int64),\n",
       "   array([ 0, -7, 16], dtype=int64),\n",
       "   array([ 0, -7, 16], dtype=int64)]],\n",
       " 'H4': [array([ 0, -9, 16]),\n",
       "  [array([ 0, -9, 16], dtype=int64),\n",
       "   array([ 0, -9, 16], dtype=int64),\n",
       "   array([ 0, -9, 16], dtype=int64),\n",
       "   array([ 0, -9, 15], dtype=int64),\n",
       "   array([ 0, -9, 15], dtype=int64)]],\n",
       " 'H5': [array([ 0,  3, 14]),\n",
       "  [array([ 0,  3, 14], dtype=int64),\n",
       "   array([ 0,  3, 14], dtype=int64),\n",
       "   array([ 0,  3, 13], dtype=int64),\n",
       "   array([ 0,  3, 13], dtype=int64),\n",
       "   array([ 0,  3, 14], dtype=int64)]],\n",
       " 'H6': [array([ 0,  3, 11]),\n",
       "  [array([ 0,  3, 11], dtype=int64),\n",
       "   array([ 0,  3, 11], dtype=int64),\n",
       "   array([ 0,  3, 11], dtype=int64),\n",
       "   array([ 0,  3, 11], dtype=int64),\n",
       "   array([ 0,  3, 11], dtype=int64)]],\n",
       " 'H7': [array([0, 5, 7]),\n",
       "  [array([0, 5, 7], dtype=int64),\n",
       "   array([0, 6, 7], dtype=int64),\n",
       "   array([0, 6, 7], dtype=int64),\n",
       "   array([0, 5, 7], dtype=int64),\n",
       "   array([0, 5, 7], dtype=int64)]],\n",
       " 'H8': [array([0, 0, 0]),\n",
       "  [array([0, 0, 0], dtype=int64),\n",
       "   array([0, 0, 0], dtype=int64),\n",
       "   array([0, 0, 0], dtype=int64),\n",
       "   array([0, 0, 0], dtype=int64),\n",
       "   array([0, 0, 0], dtype=int64)]],\n",
       " 'H9': [array([0, 0, 0]),\n",
       "  [array([0, 0, 0], dtype=int64),\n",
       "   array([0, 0, 0], dtype=int64),\n",
       "   array([0, 0, 0], dtype=int64),\n",
       "   array([0, 0, 0], dtype=int64),\n",
       "   array([0, 0, 0], dtype=int64)]],\n",
       " 'H10': [array([  0,  -4, -13]),\n",
       "  [array([  0,  -4, -13], dtype=int64),\n",
       "   array([  0,  -4, -13], dtype=int64),\n",
       "   array([  0,  -4, -13], dtype=int64),\n",
       "   array([  0,  -4, -13], dtype=int64),\n",
       "   array([  0,  -4, -13], dtype=int64)]],\n",
       " 'H11': [array([  0,   1, -22]),\n",
       "  [array([  0,   1, -22], dtype=int64),\n",
       "   array([  0,   1, -22], dtype=int64),\n",
       "   array([  0,   1, -23], dtype=int64),\n",
       "   array([  0,   1, -22], dtype=int64),\n",
       "   array([  0,   2, -22], dtype=int64)]],\n",
       " 'H12': [array([  0,  -3, -25]),\n",
       "  [array([  0,  -4, -25], dtype=int64),\n",
       "   array([  0,  -3, -25], dtype=int64),\n",
       "   array([  0,  -3, -25], dtype=int64),\n",
       "   array([  0,  -4, -25], dtype=int64),\n",
       "   array([  0,  -3, -25], dtype=int64)]],\n",
       " 'H13': [array([  0,  -8, -50]),\n",
       "  [array([  0,  -8, -50], dtype=int64),\n",
       "   array([  0,  -8, -50], dtype=int64),\n",
       "   array([  0,  -8, -50], dtype=int64),\n",
       "   array([  0,  -8, -50], dtype=int64),\n",
       "   array([  0,  -7, -50], dtype=int64)]],\n",
       " 'H14': [array([  0,  -7, -62]),\n",
       "  [array([  0,  -7, -62], dtype=int64),\n",
       "   array([  0,  -7, -62], dtype=int64),\n",
       "   array([  0,  -7, -62], dtype=int64),\n",
       "   array([  0,  -8, -62], dtype=int64),\n",
       "   array([  0,  -7, -62], dtype=int64)]],\n",
       " 'H15': [array([  0,  -8, -64]),\n",
       "  [array([  0,  -8, -64], dtype=int64),\n",
       "   array([  0,  -8, -64], dtype=int64),\n",
       "   array([  0,  -8, -64], dtype=int64),\n",
       "   array([  0,  -8, -64], dtype=int64),\n",
       "   array([  0,  -8, -64], dtype=int64)]],\n",
       " 'H16': [array([  0, -10, -81]),\n",
       "  [array([  0, -10, -81], dtype=int64),\n",
       "   array([  0, -10, -81], dtype=int64),\n",
       "   array([  0, -10, -81], dtype=int64),\n",
       "   array([  0, -11, -80], dtype=int64),\n",
       "   array([  0, -10, -81], dtype=int64)]],\n",
       " 'H17': [array([  0,  -1, -82]),\n",
       "  [array([  0,  -1, -82], dtype=int64),\n",
       "   array([  0,  -1, -82], dtype=int64),\n",
       "   array([  0,  -1, -82], dtype=int64),\n",
       "   array([  0,  -1, -81], dtype=int64),\n",
       "   array([  0,   0, -82], dtype=int64)]],\n",
       " 'H18': [array([  0,  -1, -89]),\n",
       "  [array([  0,  -1, -88], dtype=int64),\n",
       "   array([  0,  -1, -89], dtype=int64),\n",
       "   array([  0,  -1, -89], dtype=int64),\n",
       "   array([  0,  -1, -88], dtype=int64),\n",
       "   array([  0,  -1, -89], dtype=int64)]]}"
      ]
     },
     "execution_count": 14,
     "metadata": {},
     "output_type": "execute_result"
    }
   ],
   "source": [
    "dec = decoder_simple()\n",
    "pickle.load(open(dec.drift_fl,'rb'))#Conv_zscan__30--H_GFP_fits_icol0.npz\n"
   ]
  },
  {
   "cell_type": "code",
   "execution_count": null,
   "id": "01b37e75",
   "metadata": {},
   "outputs": [],
   "source": []
  },
  {
   "cell_type": "code",
   "execution_count": 53,
   "id": "b5b01aa4",
   "metadata": {},
   "outputs": [
    {
     "data": {
      "text/plain": [
       "(3, 11, 11, 11)"
      ]
     },
     "execution_count": 53,
     "metadata": {},
     "output_type": "execute_result"
    }
   ],
   "source": [
    "class decoder_simple():\n",
    "    def __init__(self,save_folder,fov='Conv_zscan__001'):\n",
    "        self.save_folder = save_folder\n",
    "        self.fov = fov\n",
    "        self.decoded_fl = save_folder+os.sep+'decoded_'+fov.split('.')[0]+'--'+set_+'.npz'\n",
    "        self.drift_fl = save_folder+os.sep+'drift_'+fov.split('.')[0]+'--'+set_+'.pkl'\n",
    "    def check_is_complete(self):\n",
    "        if os.path.exists(self.decoded_fl):\n",
    "            print(\"Completed\")\n",
    "            return 1\n",
    "        if not os.path.exists(self.drift_fl):\n",
    "            print(\"Did not detect fit files\")\n",
    "            return -1\n",
    "        print(\"Not completed\")\n",
    "        return 0\n",
    "        \n",
    "    def get_fovs_sets(self):\n",
    "        self.drift_fls = glob.glob(self.save_folder+os.sep+'drift_*.pkl')\n",
    "        self.fov_sets = [os.path.basename(fl).replace('drift_','').replace('.pkl','').split('--')\n",
    "                         for fl in self.drift_fls]\n",
    "    def get_XH(self,fov,set_,ncols=3):\n",
    "        self.set_ = set_\n",
    "        save_folder = self.save_folder\n",
    "        drift_fl = save_folder+os.sep+'drift_'+fov.split('.')[0]+'--'+set_+'.pkl'\n",
    "        drifts,all_flds,fov = pickle.load(open(drift_fl,'rb'))\n",
    "        self.drifts,self.all_flds,self.fov = drifts,all_flds,fov\n",
    "\n",
    "        XH = []\n",
    "        for iH in tqdm(np.arange(len(all_flds))):\n",
    "            fld = all_flds[iH]\n",
    "            if 'MER' in os.path.basename(fld):\n",
    "                for icol in range(ncols):\n",
    "                    tag = os.path.basename(fld)\n",
    "                    save_fl = save_folder+os.sep+fov.split('.')[0]+'--'+tag+'--col'+str(icol)+'__Xhfits.npy.npz'\n",
    "                    if not os.path.exists(save_fl):save_fl = save_fl.replace('.npy','')\n",
    "                    Xh = np.load(save_fl)['Xh']\n",
    "                    tzxy = drifts[iH][0]\n",
    "                    Xh[:,:3]+=tzxy# drift correction\n",
    "                    ih = get_iH(fld) # get bit\n",
    "                    bit = (ih-1)*3+icol\n",
    "                    icolR = np.array([[icol,bit]]*len(Xh))\n",
    "                    XH_ = np.concatenate([Xh,icolR],axis=-1)\n",
    "                    XH.extend(XH_)\n",
    "        self.XH = np.array(XH)\n",
    "    def get_inters(self,dinstance_th=2,enforce_color=False):\n",
    "        \"\"\"Get an initial intersection of points and save in self.res\"\"\"\n",
    "        res =[]\n",
    "        if enforce_color:\n",
    "            icols = self.XH[:,-2]\n",
    "            XH = self.XH\n",
    "            for icol in tqdm(np.unique(icols)):\n",
    "                inds = np.where(icols==icol)[0]\n",
    "                Xs = XH[inds,:3]\n",
    "                Ts = cKDTree(Xs)\n",
    "                res_ = Ts.query_ball_tree(Ts,dinstance_th)\n",
    "                res += [inds[r] for r in res_]\n",
    "        else:\n",
    "            XH = self.XH\n",
    "            Xs = XH[:,:3]\n",
    "            Ts = cKDTree(Xs)\n",
    "            res = Ts.query_ball_tree(Ts,dinstance_th)\n",
    "        self.res = res\n",
    "        \n",
    "    def load_library(self,lib_fl = r'Z:\\DCBBL1_3_2_2023\\MERFISH_Analysis\\codebook_0_New_DCBB-300_MERFISH_encoding_2_21_2023.csv',nblanks=-1):\n",
    "        code_txt = np.array([ln.replace('\\n','').split(',') for ln in open(lib_fl,'r') if ',' in ln])\n",
    "        gns = code_txt[1:,0]\n",
    "        code_01 = code_txt[1:,2:].astype(int)\n",
    "        codes = np.array([np.where(cd)[0] for cd in code_01])\n",
    "        codes_ = [list(np.sort(cd)) for cd in codes]\n",
    "        nbits = np.max(codes)+1\n",
    "\n",
    "        codes__ = codes_\n",
    "        gns__ = list(gns)\n",
    "        if nblanks>=0:\n",
    "            ### get extrablanks\n",
    "            from itertools import combinations\n",
    "            X_codes = np.array((list(combinations(range(nbits),4))))\n",
    "            X_code_01 = []\n",
    "            for cd in X_codes:\n",
    "                l_ = np.zeros(nbits)\n",
    "                l_[cd] = 1\n",
    "                X_code_01.append(l_)\n",
    "            X_code_01 = np.array(X_code_01,dtype=int)\n",
    "            from scipy.spatial.distance import cdist\n",
    "            eblanks = np.where(np.min(cdist(code_01,X_code_01,metric='hamming'),0)>=4/float(nbits))[0]\n",
    "            codes__ = codes_ + [list(e)for e in X_codes[eblanks]]\n",
    "            gns__ = list(gns)+ ['blanke'+str(ign+1).zfill(4) for ign in range(len(eblanks))]\n",
    "        \n",
    "        bad_gns = np.array(['blank' in e for e in gns__])\n",
    "        good_gns = np.where(~bad_gns)[0]\n",
    "        bad_gns = np.where(bad_gns)[0]\n",
    "\n",
    "        \n",
    "        \n",
    "        self.lib_fl = lib_fl ### name of coding library\n",
    "        self.nbits = nbits ### number of bits\n",
    "        self.gns_names = gns__  ### names of genes and blank codes\n",
    "        self.bad_gns = bad_gns ### indices of the blank codes\n",
    "        self.good_gns = good_gns ### indices of the good gene codes\n",
    "        self.codes__ = codes__ ### final extended codes of form [bit1,bit2,bit3,bit4]\n",
    "        self.codes_01 = code_01\n",
    "        if nblanks>=0:\n",
    "            self.codes_01 = np.concatenate([code_01,X_code_01[eblanks]],axis=0) ### final extended codes of form [0,1,0,0,1...]\n",
    "        \n",
    "        dic_bit_to_code = {}\n",
    "        for icd,cd in enumerate(self.codes__): \n",
    "            for bit in cd:\n",
    "                if bit not in dic_bit_to_code: dic_bit_to_code[bit]=[]\n",
    "                dic_bit_to_code[bit].append(icd)\n",
    "        self.dic_bit_to_code = dic_bit_to_code  ### a dictinary in which each bit is mapped to the inde of a code\n",
    "    def get_icodes(self,nmin_bits=4,method = 'top4',redo=False,norm_brightness=None):    \n",
    "        #### unfold res which is a list of list with clusters of loc.\n",
    "        \n",
    "        \n",
    "        res = self.res\n",
    "\n",
    "        import time\n",
    "        start = time.time()\n",
    "        res = [r for r in res if len(r)>=nmin_bits]\n",
    "        #rlens = [len(r) for r in res]\n",
    "        #edges = np.cumsum([0]+rlens)\n",
    "        res_unfolder = np.array([r_ for r in res for r_ in r])\n",
    "        #res0 = np.array([r[0] for r in res for r_ in r])\n",
    "        ires = np.array([ir for ir,r in enumerate(res) for r_ in r])\n",
    "        print(\"Unfolded molecules:\",time.time()-start)\n",
    "\n",
    "        ### get scores across bits\n",
    "        import time\n",
    "        start = time.time()\n",
    "        RS = self.XH[:,-1].astype(int)\n",
    "        brighness = self.XH[:,-3]\n",
    "        brighness_n = brighness.copy()\n",
    "        if norm_brightness is not None:\n",
    "            colors = self.XH[:,norm_brightness]#self.XH[:,-1] for bits\n",
    "            med_cols = {col: np.median(brighness[col==colors])for col in np.unique(colors)}\n",
    "            for col in np.unique(colors):\n",
    "                brighness_n[col==colors]=brighness[col==colors]/med_cols[col]\n",
    "        scores = brighness_n[res_unfolder]\n",
    "       \n",
    "        bits_unfold = RS[res_unfolder]\n",
    "        nbits = len(np.unique(RS))\n",
    "        scores_bits = np.zeros([len(res),nbits])\n",
    "        arg_scores = np.argsort(scores)\n",
    "        scores_bits[ires[arg_scores],bits_unfold[arg_scores]]=scores[arg_scores]\n",
    "\n",
    "        import time\n",
    "        start = time.time()\n",
    "        ### There are multiple avenues here: \n",
    "        #### nearest neighbors - slowest\n",
    "        #### best dot product - reasonable and can return missing elements - medium speed\n",
    "        #### find top 4 bits and call that a code - simplest and fastest\n",
    "\n",
    "\n",
    "        if method == 'top4':\n",
    "            codes = self.codes__\n",
    "            vals = np.argsort(scores_bits,axis=-1)\n",
    "            bcodes = np.sort(vals[:,-4:],axis=-1)\n",
    "            base = [nbits**3,nbits**2,nbits**1,nbits**0]\n",
    "            bcodes_b = np.sum(bcodes*base,axis=1)\n",
    "            codes_b = np.sum(np.sort(codes,axis=-1)*base,axis=1)\n",
    "            icodesN = np.zeros(len(bcodes_b),dtype=int)-1\n",
    "            for icd,cd in enumerate(codes_b):\n",
    "                icodesN[bcodes_b==cd]=icd\n",
    "            bad = np.sum(scores_bits>0,axis=-1)<4\n",
    "            icodesN[bad]=-1\n",
    "            igood = np.where(icodesN>-1)[0]\n",
    "            inds_spotsN =  np.zeros([len(res),nbits],dtype=int)-1\n",
    "            inds_spotsN[ires[arg_scores],bits_unfold[arg_scores]]=res_unfolder[arg_scores]\n",
    "            res_prunedN = np.array([inds_spotsN[imol][codes[icd]] for imol,icd in enumerate(icodesN) if icd>-1])\n",
    "            scores_prunedN = np.array([scores_bits[imol][codes[icd]] for imol,icd in enumerate(icodesN) if icd>-1])\n",
    "            icodesN = icodesN[igood]\n",
    "        elif method == 'dot':\n",
    "            icodesN = np.argmax(np.dot(scores_bits[:],self.codes_01.T),axis=-1)\n",
    "            inds_spotsN =  np.zeros([len(res),nbits],dtype=int)-1\n",
    "            inds_spotsN[ires[arg_scores],bits_unfold[arg_scores]]=res_unfolder[arg_scores]\n",
    "            res_prunedN = np.array([inds_spotsN[imol][codes[icd]] for imol,icd in enumerate(icodesN) if icd>-1])\n",
    "            scores_prunedN = np.array([scores_bits[imol][codes[icd]] for imol,icd in enumerate(icodesN) if icd>-1])\n",
    "\n",
    "        print(\"Computed the decoding:\",time.time()-start)\n",
    "\n",
    "        import time\n",
    "        start = time.time()\n",
    "\n",
    "        mean_scores = np.mean(scores_prunedN,axis=-1)\n",
    "        ordered_mols = np.argsort(mean_scores)[::-1]\n",
    "        keep_mols = []\n",
    "        visited = np.zeros(len(self.XH))\n",
    "        for imol in tqdm(ordered_mols):\n",
    "            r = np.array(res_prunedN[imol])\n",
    "            r_ = r[r>=0]\n",
    "            if np.all(visited[r_]==0):\n",
    "                keep_mols.append(imol)\n",
    "                visited[r_]=1\n",
    "        keep_mols = np.array(keep_mols)\n",
    "        self.scores_prunedN = scores_prunedN[keep_mols]\n",
    "        self.res_prunedN = res_prunedN[keep_mols]\n",
    "        self.icodesN = icodesN[keep_mols]\n",
    "        print(\"Computed best unique assigment:\",time.time()-start)\n",
    "        \n",
    "        XH_pruned = self.XH[self.res_prunedN]\n",
    "        np.savez_compressed(self.decoded_fl,XH_pruned=XH_pruned,icodesN=self.icodesN,gns_names = np.array(self.gns_names))\n",
    "        #XH_pruned -> 10000000 X 4 X 10 [z,x,y,bk...,corpsf,h,col,bit] \n",
    "        #icodesN -> 10000000 index of the decoded molecules in gns_names\n",
    "        #gns_names\n",
    "    def load_decoded(self):\n",
    "        import time\n",
    "        start= time.time()\n",
    "        self.decoded_fl = self.save_folder+os.sep+'decoded_'+self.fov.split('.')[0]+'--'+self.set_+'.npz'\n",
    "        self.XH_pruned = np.load(self.decoded_fl)['XH_pruned']\n",
    "        self.icodesN = np.load(self.decoded_fl)['icodesN']\n",
    "        self.gns_names = np.load(self.decoded_fl)['gns_names']\n",
    "        print(\"Loaded decoded:\",start-time.time())"
   ]
  },
  {
   "cell_type": "code",
   "execution_count": 62,
   "id": "f522e808",
   "metadata": {},
   "outputs": [],
   "source": []
  },
  {
   "cell_type": "code",
   "execution_count": 76,
   "id": "f53976be",
   "metadata": {},
   "outputs": [],
   "source": []
  },
  {
   "cell_type": "code",
   "execution_count": 78,
   "id": "0fc9e018",
   "metadata": {},
   "outputs": [
    {
     "name": "stderr",
     "output_type": "stream",
     "text": [
      "C:\\Users\\Scope2\\anaconda3\\lib\\site-packages\\napari_tools_menu\\__init__.py:179: FutureWarning: Public access to Window.qt_viewer is deprecated and will be removed in\n",
      "v0.5.0. It is considered an \"implementation detail\" of the napari\n",
      "application, not part of the napari viewer model. If your use case\n",
      "requires access to qt_viewer, please open an issue to discuss.\n",
      "  self.tools_menu = ToolsMenu(self, self.qt_viewer.viewer)\n"
     ]
    },
    {
     "data": {
      "text/plain": [
       "<Points layer 'Points' at 0x245a3ea6730>"
      ]
     },
     "execution_count": 78,
     "metadata": {},
     "output_type": "execute_result"
    }
   ],
   "source": []
  },
  {
   "cell_type": "code",
   "execution_count": 38,
   "id": "e7fe5c76",
   "metadata": {},
   "outputs": [
    {
     "data": {
      "text/plain": [
       "<Points layer 'Points' at 0x2450d96c250>"
      ]
     },
     "execution_count": 38,
     "metadata": {},
     "output_type": "execute_result"
    }
   ],
   "source": [
    "#v.add_points(Xh[:,:3])\n",
    "\n"
   ]
  },
  {
   "cell_type": "code",
   "execution_count": 39,
   "id": "a691dd23",
   "metadata": {},
   "outputs": [
    {
     "name": "stdout",
     "output_type": "stream",
     "text": [
      " Volume in drive C has no label.\n",
      " Volume Serial Number is 1499-8C83\n",
      "\n",
      " Directory of C:\\Users\\Scope2\\Scope2Scripts\\Zane_Ying_Virus\n",
      "\n",
      "03/27/2023  04:35 PM    <DIR>          .\n",
      "03/27/2023  04:35 PM    <DIR>          ..\n",
      "03/27/2023  04:02 PM    <DIR>          .ipynb_checkpoints\n",
      "03/22/2023  06:14 PM            19,003 First_Exploration_of_data.ipynb\n",
      "03/27/2023  04:35 PM             8,748 FitAndDriftCorrectData.ipynb\n",
      "03/27/2023  03:55 PM            79,344 GFP2Color_ChromatiAberration.ipynb\n",
      "03/22/2023  05:29 PM            88,169 ioMicro.py\n",
      "03/22/2023  05:30 PM    <DIR>          __pycache__\n",
      "               4 File(s)        195,264 bytes\n",
      "               4 Dir(s)  17,668,148,068,352 bytes free\n"
     ]
    }
   ],
   "source": [
    "!dir"
   ]
  },
  {
   "cell_type": "code",
   "execution_count": 23,
   "id": "c81f8cbc",
   "metadata": {},
   "outputs": [
    {
     "name": "stdout",
     "output_type": "stream",
     "text": [
      "S:\\ZaneTrit_3_3_2023_analysis\\Conv_zscan__30_drift.pkl\n"
     ]
    },
    {
     "name": "stderr",
     "output_type": "stream",
     "text": [
      "100%|██████████████████████████████████████████████████████████████████████████████████| 19/19 [03:51<00:00, 12.17s/it]\n"
     ]
    }
   ],
   "source": []
  },
  {
   "cell_type": "code",
   "execution_count": 20,
   "id": "03b853f8",
   "metadata": {},
   "outputs": [],
   "source": [
    "dic_drift = pickle.load(open(save_file,'rb'))"
   ]
  },
  {
   "cell_type": "code",
   "execution_count": 21,
   "id": "512c7513",
   "metadata": {},
   "outputs": [
    {
     "data": {
      "text/plain": [
       "{'H_GFP': [array([  0,   5, -93]),\n",
       "  [array([  0,   5, -93], dtype=int64),\n",
       "   array([  0,   5, -93], dtype=int64),\n",
       "   array([  0,   5, -93], dtype=int64),\n",
       "   array([  0,   4, -92], dtype=int64),\n",
       "   array([  0,   6, -93], dtype=int64)]],\n",
       " 'H1': [array([ 0, 99, 90]),\n",
       "  [array([ 0, 98, 90], dtype=int64),\n",
       "   array([ 0, 99, 91], dtype=int64),\n",
       "   array([ 0, 99, 90], dtype=int64),\n",
       "   array([ 0, 99, 90], dtype=int64),\n",
       "   array([ 0, 98, 90], dtype=int64)]],\n",
       " 'H2': [array([ 0, 22, 45]),\n",
       "  [array([ 0, 22, 45], dtype=int64),\n",
       "   array([ 0, 23, 45], dtype=int64),\n",
       "   array([ 0, 22, 45], dtype=int64),\n",
       "   array([ 0, 22, 45], dtype=int64),\n",
       "   array([ 0, 22, 45], dtype=int64)]],\n",
       " 'H3': [array([ 0, -7, 16]),\n",
       "  [array([ 0, -7, 16], dtype=int64),\n",
       "   array([ 0, -6, 16], dtype=int64),\n",
       "   array([ 0, -6, 16], dtype=int64),\n",
       "   array([ 0, -7, 16], dtype=int64),\n",
       "   array([ 0, -7, 16], dtype=int64)]]}"
      ]
     },
     "execution_count": 21,
     "metadata": {},
     "output_type": "execute_result"
    }
   ],
   "source": [
    "dic_drift"
   ]
  },
  {
   "cell_type": "code",
   "execution_count": null,
   "id": "c2411e87",
   "metadata": {},
   "outputs": [],
   "source": []
  }
 ],
 "metadata": {
  "kernelspec": {
   "display_name": "Python 3 (ipykernel)",
   "language": "python",
   "name": "python3"
  },
  "language_info": {
   "codemirror_mode": {
    "name": "ipython",
    "version": 3
   },
   "file_extension": ".py",
   "mimetype": "text/x-python",
   "name": "python",
   "nbconvert_exporter": "python",
   "pygments_lexer": "ipython3",
   "version": "3.9.12"
  }
 },
 "nbformat": 4,
 "nbformat_minor": 5
}
